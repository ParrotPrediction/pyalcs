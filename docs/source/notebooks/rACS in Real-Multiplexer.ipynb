{
 "cells": [
  {
   "cell_type": "markdown",
   "metadata": {},
   "source": [
    "# rACS in Real-Multiplexer"
   ]
  },
  {
   "cell_type": "code",
   "execution_count": 1,
   "metadata": {},
   "outputs": [],
   "source": [
    "# Logger\n",
    "import logging\n",
    "logging.basicConfig(level=logging.INFO)\n",
    "\n",
    "# Import local paths\n",
    "import sys, os\n",
    "sys.path.append(os.path.abspath('../../..'))\n",
    "sys.path.append(os.path.abspath('../../../../openai-envs'))\n",
    "\n",
    "# Enable automatic module reload\n",
    "%load_ext autoreload\n",
    "%autoreload 2\n",
    "\n",
    "# Load PyALCS module\n",
    "from lcs.agents.racs import RACS, Configuration\n",
    "\n",
    "# Load OpenAI environments\n",
    "import gym\n",
    "import gym_multiplexer"
   ]
  },
  {
   "cell_type": "markdown",
   "metadata": {},
   "source": [
    "## 3-bit Real-Multiplexer\n",
    "In 3-bit multiplexer first bit is responsible for addressing the correct answer.\n",
    "\n",
    "> For testing purposes the last bit is used as a flag indicating if the action chosen by the algorithm was correct. The environment always introduces it with 0. It's value is changed to 1 if the action was chosen correctly."
   ]
  },
  {
   "cell_type": "code",
   "execution_count": 2,
   "metadata": {},
   "outputs": [
    {
     "name": "stdout",
     "output_type": "stream",
     "text": [
      "\u001b[33mWARN: gym.spaces.Box autodetected dtype as <class 'numpy.float32'>. Please provide explicit dtype.\u001b[0m\n"
     ]
    }
   ],
   "source": [
    "# Environment initialization\n",
    "rmpx = gym.make('real-multiplexer-3bit-v0')"
   ]
  },
  {
   "cell_type": "markdown",
   "metadata": {},
   "source": [
    "rMPX acts like a normal MPX with the difference that instead on boolean values floating numbers within range `[0,1]` are used. Environment used internal threshold to transform them into boolean values (`threshold=0.5` is used as default)."
   ]
  },
  {
   "cell_type": "code",
   "execution_count": 3,
   "metadata": {},
   "outputs": [
    {
     "data": {
      "text/plain": [
       "[0.4863466535210663, 0.7676478988757155, 0.36250925049392413, 0]"
      ]
     },
     "execution_count": 3,
     "metadata": {},
     "output_type": "execute_result"
    }
   ],
   "source": [
    "state = rmpx.reset()\n",
    "state"
   ]
  },
  {
   "cell_type": "markdown",
   "metadata": {},
   "source": [
    "Which corresponds to the following binary MPX:"
   ]
  },
  {
   "cell_type": "code",
   "execution_count": 4,
   "metadata": {},
   "outputs": [
    {
     "data": {
      "text/plain": [
       "[0, 1, 0, 0]"
      ]
     },
     "execution_count": 4,
     "metadata": {},
     "output_type": "execute_result"
    }
   ],
   "source": [
    "threshold = 0.5  # secret knowledge\n",
    "binary_state = map(lambda x: 1 if x > threshold else 0, state)\n",
    "\n",
    "list(binary_state)"
   ]
  },
  {
   "cell_type": "markdown",
   "metadata": {},
   "source": [
    "Depending on the MPX size we have some actions to be executed. In 3-bit variant first bit (_address bit_) points to the correct answer (two possible values)."
   ]
  },
  {
   "cell_type": "code",
   "execution_count": 5,
   "metadata": {},
   "outputs": [
    {
     "data": {
      "text/plain": [
       "2"
      ]
     },
     "execution_count": 5,
     "metadata": {},
     "output_type": "execute_result"
    }
   ],
   "source": [
    "rmpx.action_space.n"
   ]
  },
  {
   "cell_type": "markdown",
   "metadata": {},
   "source": [
    "We can also investigate the properties of a single observation (like vector dimension, lower and upper bound of each attribute)."
   ]
  },
  {
   "cell_type": "code",
   "execution_count": 6,
   "metadata": {},
   "outputs": [
    {
     "name": "stdout",
     "output_type": "stream",
     "text": [
      "Observation shape: (4,)\n",
      "Upper bounds: [0. 0. 0. 0.]\n",
      "Lower bounds: [1. 1. 1. 1.]\n"
     ]
    }
   ],
   "source": [
    "print(f\"Observation shape: {rmpx.observation_space.shape}\")\n",
    "print(f\"Upper bounds: {rmpx.observation_space.low}\")\n",
    "print(f\"Lower bounds: {rmpx.observation_space.high}\")"
   ]
  },
  {
   "cell_type": "markdown",
   "metadata": {},
   "source": [
    "## rACS\n",
    "\n",
    "- write abount _encoders_"
   ]
  },
  {
   "cell_type": "code",
   "execution_count": 7,
   "metadata": {},
   "outputs": [
    {
     "name": "stdout",
     "output_type": "stream",
     "text": [
      "Encoding values [0,1] using 2 bits\n",
      "Value: 0.0\tencoded: 0\n",
      "Value: 0.1\tencoded: 0\n",
      "Value: 0.2\tencoded: 0\n",
      "Value: 0.3\tencoded: 0\n",
      "Value: 0.4\tencoded: 1\n",
      "Value: 0.5\tencoded: 1\n",
      "Value: 0.6\tencoded: 1\n",
      "Value: 0.7\tencoded: 2\n",
      "Value: 0.8\tencoded: 2\n",
      "Value: 0.9\tencoded: 2\n",
      "Value: 1.0\tencoded: 3\n",
      "\n",
      "\n",
      "Encoding values [0,1] using 3 bits\n",
      "Value: 0.0\tencoded: 0\n",
      "Value: 0.1\tencoded: 0\n",
      "Value: 0.2\tencoded: 1\n",
      "Value: 0.3\tencoded: 2\n",
      "Value: 0.4\tencoded: 2\n",
      "Value: 0.5\tencoded: 3\n",
      "Value: 0.6\tencoded: 4\n",
      "Value: 0.7\tencoded: 4\n",
      "Value: 0.8\tencoded: 5\n",
      "Value: 0.9\tencoded: 6\n",
      "Value: 1.0\tencoded: 7\n",
      "\n",
      "\n"
     ]
    }
   ],
   "source": [
    "def print_encoding(resolution):\n",
    "    from lcs.representations.RealValueEncoder import RealValueEncoder\n",
    "    encoder = RealValueEncoder(resolution_bits=resolution)\n",
    "    print(f\"Encoding values [0,1] using {resolution} bits\")\n",
    "    for i in range (0, 11, 1):\n",
    "        val = i/10.0\n",
    "        print(f\"Value: {val}\\tencoded: {encoder.encode(val)}\")\n",
    "    print(\"\\n\")\n",
    "    \n",
    "print_encoding(2)\n",
    "print_encoding(3)"
   ]
  },
  {
   "cell_type": "markdown",
   "metadata": {},
   "source": [
    "In the experiment each attribute range will be represented as an _unorded bounded tuple_ with desired encoding resolution."
   ]
  },
  {
   "cell_type": "code",
   "execution_count": 8,
   "metadata": {},
   "outputs": [],
   "source": [
    "ENCODER_BITS = 3\n",
    "\n",
    "cfg = Configuration(rmpx.observation_space.shape[0], rmpx.action_space.n,\n",
    "                    encoder_bits=ENCODER_BITS,\n",
    "                    epsilon=0.5,  # exploration-exploitation ratio\n",
    "                    do_ga=True,\n",
    "                    theta_r=0.9,  # reliablity threshold\n",
    "                    theta_i=0.2,  # inadequacy threshold\n",
    "                    theta_ga=100,\n",
    "                    chi=0.5,  # cross-over probability\n",
    "                    mu=0.15)  # mutation probability"
   ]
  },
  {
   "cell_type": "markdown",
   "metadata": {},
   "source": [
    "Initialize agent with no initial classifiers using configuration above."
   ]
  },
  {
   "cell_type": "code",
   "execution_count": 9,
   "metadata": {},
   "outputs": [],
   "source": [
    "agent = RACS(cfg)"
   ]
  },
  {
   "cell_type": "markdown",
   "metadata": {},
   "source": [
    "Perform exploration for some trials"
   ]
  },
  {
   "cell_type": "code",
   "execution_count": 10,
   "metadata": {},
   "outputs": [
    {
     "name": "stderr",
     "output_type": "stream",
     "text": [
      "INFO:root:{'agent': {'population': 1, 'numerosity': 1, 'reliable': 0, 'fitness': 0.0, 'cover_ratio': 1.0, 'trial': 0, 'steps': 1, 'total_steps': 1}, 'environment': None, 'performance': None}\n",
      "INFO:root:{'agent': {'population': 89, 'numerosity': 89, 'reliable': 0, 'fitness': 125.69072909331588, 'cover_ratio': 0.5730337078651685, 'trial': 25, 'steps': 1, 'total_steps': 26}, 'environment': None, 'performance': None}\n",
      "INFO:root:{'agent': {'population': 294, 'numerosity': 294, 'reliable': 0, 'fitness': 174.35271792096756, 'cover_ratio': 0.5212585034013606, 'trial': 50, 'steps': 1, 'total_steps': 51}, 'environment': None, 'performance': None}\n",
      "INFO:root:{'agent': {'population': 554, 'numerosity': 554, 'reliable': 0, 'fitness': 174.62623805910883, 'cover_ratio': 0.45216606498194944, 'trial': 75, 'steps': 1, 'total_steps': 76}, 'environment': None, 'performance': None}\n",
      "INFO:root:{'agent': {'population': 1050, 'numerosity': 1050, 'reliable': 0, 'fitness': 188.08851060843696, 'cover_ratio': 0.3992857142857143, 'trial': 100, 'steps': 1, 'total_steps': 101}, 'environment': None, 'performance': None}\n",
      "INFO:root:{'agent': {'population': 1670, 'numerosity': 1670, 'reliable': 0, 'fitness': 202.18897281717074, 'cover_ratio': 0.3718562874251497, 'trial': 125, 'steps': 1, 'total_steps': 126}, 'environment': None, 'performance': None}\n",
      "INFO:root:{'agent': {'population': 2396, 'numerosity': 2396, 'reliable': 0, 'fitness': 218.50384074147487, 'cover_ratio': 0.3465150250417362, 'trial': 150, 'steps': 1, 'total_steps': 151}, 'environment': None, 'performance': None}\n",
      "INFO:root:{'agent': {'population': 3619, 'numerosity': 3619, 'reliable': 0, 'fitness': 235.59694621537983, 'cover_ratio': 0.32370820668693007, 'trial': 175, 'steps': 1, 'total_steps': 176}, 'environment': None, 'performance': None}\n",
      "INFO:root:{'agent': {'population': 5313, 'numerosity': 5313, 'reliable': 0, 'fitness': 247.3062065857624, 'cover_ratio': 0.31258234519104083, 'trial': 200, 'steps': 1, 'total_steps': 201}, 'environment': None, 'performance': None}\n",
      "INFO:root:{'agent': {'population': 6809, 'numerosity': 6809, 'reliable': 0, 'fitness': 252.67098225391499, 'cover_ratio': 0.3000073432222059, 'trial': 225, 'steps': 1, 'total_steps': 226}, 'environment': None, 'performance': None}\n",
      "INFO:root:{'agent': {'population': 8105, 'numerosity': 8105, 'reliable': 0, 'fitness': 264.6219987065208, 'cover_ratio': 0.28719925971622456, 'trial': 250, 'steps': 1, 'total_steps': 251}, 'environment': None, 'performance': None}\n",
      "INFO:root:{'agent': {'population': 9152, 'numerosity': 9152, 'reliable': 0, 'fitness': 272.1794274150588, 'cover_ratio': 0.27409699675324667, 'trial': 275, 'steps': 1, 'total_steps': 276}, 'environment': None, 'performance': None}\n",
      "INFO:root:{'agent': {'population': 10387, 'numerosity': 10387, 'reliable': 0, 'fitness': 283.796771432725, 'cover_ratio': 0.26056953059456184, 'trial': 300, 'steps': 1, 'total_steps': 301}, 'environment': None, 'performance': None}\n",
      "INFO:root:{'agent': {'population': 9959, 'numerosity': 9959, 'reliable': 0, 'fitness': 297.30774873247975, 'cover_ratio': 0.24377088921721918, 'trial': 325, 'steps': 1, 'total_steps': 326}, 'environment': None, 'performance': None}\n",
      "INFO:root:{'agent': {'population': 9260, 'numerosity': 9260, 'reliable': 0, 'fitness': 296.580850671591, 'cover_ratio': 0.23631209503239736, 'trial': 350, 'steps': 1, 'total_steps': 351}, 'environment': None, 'performance': None}\n",
      "INFO:root:{'agent': {'population': 8867, 'numerosity': 8867, 'reliable': 0, 'fitness': 301.06248339378465, 'cover_ratio': 0.23412250882082844, 'trial': 375, 'steps': 1, 'total_steps': 376}, 'environment': None, 'performance': None}\n",
      "INFO:root:{'agent': {'population': 8306, 'numerosity': 8306, 'reliable': 0, 'fitness': 303.7223571238677, 'cover_ratio': 0.22703897354752162, 'trial': 400, 'steps': 1, 'total_steps': 401}, 'environment': None, 'performance': None}\n",
      "INFO:root:{'agent': {'population': 7375, 'numerosity': 7375, 'reliable': 0, 'fitness': 295.0059013285668, 'cover_ratio': 0.21812590799031478, 'trial': 425, 'steps': 1, 'total_steps': 426}, 'environment': None, 'performance': None}\n",
      "INFO:root:{'agent': {'population': 6146, 'numerosity': 6146, 'reliable': 0, 'fitness': 292.8205842322974, 'cover_ratio': 0.20381432755334475, 'trial': 450, 'steps': 1, 'total_steps': 451}, 'environment': None, 'performance': None}\n",
      "INFO:root:{'agent': {'population': 5675, 'numerosity': 5675, 'reliable': 0, 'fitness': 286.3077168775448, 'cover_ratio': 0.19257394587791063, 'trial': 475, 'steps': 1, 'total_steps': 476}, 'environment': None, 'performance': None}\n",
      "INFO:root:{'agent': {'population': 5278, 'numerosity': 5278, 'reliable': 0, 'fitness': 287.2748855061642, 'cover_ratio': 0.17966085638499446, 'trial': 500, 'steps': 1, 'total_steps': 501}, 'environment': None, 'performance': None}\n",
      "INFO:root:{'agent': {'population': 4614, 'numerosity': 4614, 'reliable': 0, 'fitness': 288.7464606790491, 'cover_ratio': 0.17446126695151423, 'trial': 525, 'steps': 1, 'total_steps': 526}, 'environment': None, 'performance': None}\n",
      "INFO:root:{'agent': {'population': 3879, 'numerosity': 3879, 'reliable': 0, 'fitness': 273.24082968060617, 'cover_ratio': 0.15513939527860662, 'trial': 550, 'steps': 1, 'total_steps': 551}, 'environment': None, 'performance': None}\n",
      "INFO:root:{'agent': {'population': 3459, 'numerosity': 3459, 'reliable': 0, 'fitness': 269.74180121850475, 'cover_ratio': 0.14123611283194965, 'trial': 575, 'steps': 1, 'total_steps': 576}, 'environment': None, 'performance': None}\n",
      "INFO:root:{'agent': {'population': 3357, 'numerosity': 3357, 'reliable': 0, 'fitness': 275.8171854120564, 'cover_ratio': 0.14403804417209226, 'trial': 600, 'steps': 1, 'total_steps': 601}, 'environment': None, 'performance': None}\n",
      "INFO:root:{'agent': {'population': 3386, 'numerosity': 3386, 'reliable': 0, 'fitness': 277.03532897063366, 'cover_ratio': 0.1545544679773857, 'trial': 625, 'steps': 1, 'total_steps': 626}, 'environment': None, 'performance': None}\n",
      "INFO:root:{'agent': {'population': 3621, 'numerosity': 3621, 'reliable': 0, 'fitness': 278.95710631404324, 'cover_ratio': 0.16595652345445208, 'trial': 650, 'steps': 1, 'total_steps': 651}, 'environment': None, 'performance': None}\n",
      "INFO:root:{'agent': {'population': 3764, 'numerosity': 3764, 'reliable': 0, 'fitness': 276.70183394953483, 'cover_ratio': 0.16593289813268552, 'trial': 675, 'steps': 1, 'total_steps': 676}, 'environment': None, 'performance': None}\n",
      "INFO:root:{'agent': {'population': 3748, 'numerosity': 3748, 'reliable': 0, 'fitness': 275.47320992593546, 'cover_ratio': 0.16241042841896622, 'trial': 700, 'steps': 1, 'total_steps': 701}, 'environment': None, 'performance': None}\n",
      "INFO:root:{'agent': {'population': 3372, 'numerosity': 3372, 'reliable': 0, 'fitness': 270.0556231179949, 'cover_ratio': 0.1442234367056429, 'trial': 725, 'steps': 1, 'total_steps': 726}, 'environment': None, 'performance': None}\n",
      "INFO:root:{'agent': {'population': 3372, 'numerosity': 3372, 'reliable': 0, 'fitness': 271.0677912638873, 'cover_ratio': 0.14051643789188245, 'trial': 750, 'steps': 1, 'total_steps': 751}, 'environment': None, 'performance': None}\n",
      "INFO:root:{'agent': {'population': 3291, 'numerosity': 3291, 'reliable': 0, 'fitness': 272.55982954969704, 'cover_ratio': 0.13957980639840228, 'trial': 775, 'steps': 1, 'total_steps': 776}, 'environment': None, 'performance': None}\n",
      "INFO:root:{'agent': {'population': 3317, 'numerosity': 3317, 'reliable': 0, 'fitness': 272.32652455095325, 'cover_ratio': 0.13950859210129612, 'trial': 800, 'steps': 1, 'total_steps': 801}, 'environment': None, 'performance': None}\n",
      "INFO:root:{'agent': {'population': 3186, 'numerosity': 3186, 'reliable': 0, 'fitness': 273.9796002059211, 'cover_ratio': 0.13536902519953342, 'trial': 825, 'steps': 1, 'total_steps': 826}, 'environment': None, 'performance': None}\n",
      "INFO:root:{'agent': {'population': 3231, 'numerosity': 3231, 'reliable': 0, 'fitness': 275.4931654577226, 'cover_ratio': 0.13561701375071816, 'trial': 850, 'steps': 1, 'total_steps': 851}, 'environment': None, 'performance': None}\n",
      "INFO:root:{'agent': {'population': 3217, 'numerosity': 3217, 'reliable': 0, 'fitness': 274.61933960776, 'cover_ratio': 0.13567431946356376, 'trial': 875, 'steps': 1, 'total_steps': 876}, 'environment': None, 'performance': None}\n"
     ]
    },
    {
     "name": "stderr",
     "output_type": "stream",
     "text": [
      "INFO:root:{'agent': {'population': 3219, 'numerosity': 3219, 'reliable': 0, 'fitness': 274.9738918615932, 'cover_ratio': 0.1358008254559976, 'trial': 900, 'steps': 1, 'total_steps': 901}, 'environment': None, 'performance': None}\n",
      "INFO:root:{'agent': {'population': 3194, 'numerosity': 3194, 'reliable': 0, 'fitness': 275.2112191176892, 'cover_ratio': 0.1345826997048033, 'trial': 925, 'steps': 1, 'total_steps': 926}, 'environment': None, 'performance': None}\n",
      "INFO:root:{'agent': {'population': 3216, 'numerosity': 3216, 'reliable': 0, 'fitness': 273.77941310181126, 'cover_ratio': 0.13451714641080276, 'trial': 950, 'steps': 1, 'total_steps': 951}, 'environment': None, 'performance': None}\n",
      "INFO:root:{'agent': {'population': 3163, 'numerosity': 3163, 'reliable': 0, 'fitness': 275.5150920468692, 'cover_ratio': 0.13272887403459607, 'trial': 975, 'steps': 1, 'total_steps': 976}, 'environment': None, 'performance': None}\n",
      "INFO:root:{'agent': {'population': 3176, 'numerosity': 3176, 'reliable': 0, 'fitness': 274.4738377729138, 'cover_ratio': 0.13333258366318781, 'trial': 1000, 'steps': 1, 'total_steps': 1001}, 'environment': None, 'performance': None}\n",
      "INFO:root:{'agent': {'population': 3219, 'numerosity': 3219, 'reliable': 1, 'fitness': 275.1445708372288, 'cover_ratio': 0.13373718546132296, 'trial': 1025, 'steps': 1, 'total_steps': 1026}, 'environment': None, 'performance': None}\n",
      "INFO:root:{'agent': {'population': 3262, 'numerosity': 3262, 'reliable': 1, 'fitness': 275.65425414874267, 'cover_ratio': 0.13402163440483447, 'trial': 1050, 'steps': 1, 'total_steps': 1051}, 'environment': None, 'performance': None}\n",
      "INFO:root:{'agent': {'population': 3243, 'numerosity': 3243, 'reliable': 1, 'fitness': 275.7634152294169, 'cover_ratio': 0.13361746178582395, 'trial': 1075, 'steps': 1, 'total_steps': 1076}, 'environment': None, 'performance': None}\n",
      "INFO:root:{'agent': {'population': 3076, 'numerosity': 3076, 'reliable': 1, 'fitness': 274.98641771325924, 'cover_ratio': 0.14252043470183864, 'trial': 1100, 'steps': 1, 'total_steps': 1101}, 'environment': None, 'performance': None}\n",
      "INFO:root:{'agent': {'population': 3146, 'numerosity': 3146, 'reliable': 1, 'fitness': 276.1843916593059, 'cover_ratio': 0.1400304241213327, 'trial': 1125, 'steps': 1, 'total_steps': 1126}, 'environment': None, 'performance': None}\n",
      "INFO:root:{'agent': {'population': 3167, 'numerosity': 3167, 'reliable': 1, 'fitness': 275.8926002348457, 'cover_ratio': 0.14147007081961244, 'trial': 1150, 'steps': 1, 'total_steps': 1151}, 'environment': None, 'performance': None}\n",
      "INFO:root:{'agent': {'population': 3170, 'numerosity': 3170, 'reliable': 1, 'fitness': 277.2953010389055, 'cover_ratio': 0.14016448850833652, 'trial': 1175, 'steps': 1, 'total_steps': 1176}, 'environment': None, 'performance': None}\n",
      "INFO:root:{'agent': {'population': 2842, 'numerosity': 2842, 'reliable': 1, 'fitness': 279.177480668275, 'cover_ratio': 0.1540665527294655, 'trial': 1200, 'steps': 1, 'total_steps': 1201}, 'environment': None, 'performance': None}\n",
      "INFO:root:{'agent': {'population': 2819, 'numerosity': 2819, 'reliable': 1, 'fitness': 281.1344289533994, 'cover_ratio': 0.15387928850149432, 'trial': 1225, 'steps': 1, 'total_steps': 1226}, 'environment': None, 'performance': None}\n",
      "INFO:root:{'agent': {'population': 2878, 'numerosity': 2878, 'reliable': 1, 'fitness': 279.63137759615887, 'cover_ratio': 0.15439789536384327, 'trial': 1250, 'steps': 1, 'total_steps': 1251}, 'environment': None, 'performance': None}\n",
      "INFO:root:{'agent': {'population': 2867, 'numerosity': 2867, 'reliable': 1, 'fitness': 280.92292592618344, 'cover_ratio': 0.1516518012855641, 'trial': 1275, 'steps': 1, 'total_steps': 1276}, 'environment': None, 'performance': None}\n",
      "INFO:root:{'agent': {'population': 2927, 'numerosity': 2927, 'reliable': 2, 'fitness': 281.2491475207491, 'cover_ratio': 0.15324076333642364, 'trial': 1300, 'steps': 1, 'total_steps': 1301}, 'environment': None, 'performance': None}\n",
      "INFO:root:{'agent': {'population': 2922, 'numerosity': 2922, 'reliable': 2, 'fitness': 283.75570082953, 'cover_ratio': 0.1511195854111658, 'trial': 1325, 'steps': 1, 'total_steps': 1326}, 'environment': None, 'performance': None}\n",
      "INFO:root:{'agent': {'population': 2902, 'numerosity': 2902, 'reliable': 2, 'fitness': 282.9721355844663, 'cover_ratio': 0.15090577926553042, 'trial': 1350, 'steps': 1, 'total_steps': 1351}, 'environment': None, 'performance': None}\n",
      "INFO:root:{'agent': {'population': 2915, 'numerosity': 2915, 'reliable': 3, 'fitness': 281.0752148395278, 'cover_ratio': 0.15377358490565965, 'trial': 1375, 'steps': 1, 'total_steps': 1376}, 'environment': None, 'performance': None}\n",
      "INFO:root:{'agent': {'population': 2920, 'numerosity': 2920, 'reliable': 4, 'fitness': 282.82603095753876, 'cover_ratio': 0.15401174168297385, 'trial': 1400, 'steps': 1, 'total_steps': 1401}, 'environment': None, 'performance': None}\n",
      "INFO:root:{'agent': {'population': 2950, 'numerosity': 2950, 'reliable': 4, 'fitness': 283.73417059130566, 'cover_ratio': 0.15093220338982982, 'trial': 1425, 'steps': 1, 'total_steps': 1426}, 'environment': None, 'performance': None}\n",
      "INFO:root:{'agent': {'population': 2952, 'numerosity': 2952, 'reliable': 5, 'fitness': 282.75713988084084, 'cover_ratio': 0.15127758420441278, 'trial': 1450, 'steps': 1, 'total_steps': 1451}, 'environment': None, 'performance': None}\n",
      "INFO:root:{'agent': {'population': 2817, 'numerosity': 2817, 'reliable': 5, 'fitness': 286.51511686865757, 'cover_ratio': 0.1591231806886752, 'trial': 1475, 'steps': 1, 'total_steps': 1476}, 'environment': None, 'performance': None}\n",
      "INFO:root:{'agent': {'population': 2783, 'numerosity': 2783, 'reliable': 7, 'fitness': 288.5108719875155, 'cover_ratio': 0.16007905138339856, 'trial': 1500, 'steps': 1, 'total_steps': 1501}, 'environment': None, 'performance': None}\n",
      "INFO:root:{'agent': {'population': 2739, 'numerosity': 2739, 'reliable': 7, 'fitness': 290.5030290854566, 'cover_ratio': 0.1598993376101803, 'trial': 1525, 'steps': 1, 'total_steps': 1526}, 'environment': None, 'performance': None}\n",
      "INFO:root:{'agent': {'population': 2760, 'numerosity': 2760, 'reliable': 10, 'fitness': 290.4316156435564, 'cover_ratio': 0.1585274327122146, 'trial': 1550, 'steps': 1, 'total_steps': 1551}, 'environment': None, 'performance': None}\n",
      "INFO:root:{'agent': {'population': 2767, 'numerosity': 2767, 'reliable': 14, 'fitness': 290.6914576691795, 'cover_ratio': 0.15928803758583227, 'trial': 1575, 'steps': 1, 'total_steps': 1576}, 'environment': None, 'performance': None}\n",
      "INFO:root:{'agent': {'population': 2778, 'numerosity': 2779, 'reliable': 22, 'fitness': 291.98192501288156, 'cover_ratio': 0.15941581816311762, 'trial': 1600, 'steps': 1, 'total_steps': 1601}, 'environment': None, 'performance': None}\n",
      "INFO:root:{'agent': {'population': 2813, 'numerosity': 2814, 'reliable': 22, 'fitness': 293.2973669612066, 'cover_ratio': 0.15927327205322153, 'trial': 1625, 'steps': 1, 'total_steps': 1626}, 'environment': None, 'performance': None}\n",
      "INFO:root:{'agent': {'population': 2783, 'numerosity': 2784, 'reliable': 29, 'fitness': 296.00478057789275, 'cover_ratio': 0.1553950002566596, 'trial': 1650, 'steps': 1, 'total_steps': 1651}, 'environment': None, 'performance': None}\n",
      "INFO:root:{'agent': {'population': 2770, 'numerosity': 2771, 'reliable': 29, 'fitness': 293.74735771894086, 'cover_ratio': 0.15618875709128338, 'trial': 1675, 'steps': 1, 'total_steps': 1676}, 'environment': None, 'performance': None}\n",
      "INFO:root:{'agent': {'population': 2781, 'numerosity': 2782, 'reliable': 30, 'fitness': 295.06574970803143, 'cover_ratio': 0.15691940206503233, 'trial': 1700, 'steps': 1, 'total_steps': 1701}, 'environment': None, 'performance': None}\n",
      "INFO:root:{'agent': {'population': 2763, 'numerosity': 2765, 'reliable': 36, 'fitness': 294.68749964911126, 'cover_ratio': 0.16026834186443228, 'trial': 1725, 'steps': 1, 'total_steps': 1726}, 'environment': None, 'performance': None}\n",
      "INFO:root:{'agent': {'population': 2774, 'numerosity': 2777, 'reliable': 37, 'fitness': 293.86810862873335, 'cover_ratio': 0.15913070347100555, 'trial': 1750, 'steps': 1, 'total_steps': 1751}, 'environment': None, 'performance': None}\n",
      "INFO:root:{'agent': {'population': 2818, 'numerosity': 2821, 'reliable': 38, 'fitness': 291.9814320998613, 'cover_ratio': 0.16094241103112572, 'trial': 1775, 'steps': 1, 'total_steps': 1776}, 'environment': None, 'performance': None}\n"
     ]
    },
    {
     "name": "stderr",
     "output_type": "stream",
     "text": [
      "INFO:root:{'agent': {'population': 2880, 'numerosity': 2884, 'reliable': 39, 'fitness': 291.776708181534, 'cover_ratio': 0.16076388888888815, 'trial': 1800, 'steps': 1, 'total_steps': 1801}, 'environment': None, 'performance': None}\n",
      "INFO:root:{'agent': {'population': 2878, 'numerosity': 2882, 'reliable': 39, 'fitness': 291.4723806969235, 'cover_ratio': 0.16004417750421848, 'trial': 1825, 'steps': 1, 'total_steps': 1826}, 'environment': None, 'performance': None}\n",
      "INFO:root:{'agent': {'population': 2886, 'numerosity': 2890, 'reliable': 52, 'fitness': 291.7382086786639, 'cover_ratio': 0.16064003564003493, 'trial': 1850, 'steps': 1, 'total_steps': 1851}, 'environment': None, 'performance': None}\n",
      "INFO:root:{'agent': {'population': 2888, 'numerosity': 2892, 'reliable': 53, 'fitness': 292.6921334408231, 'cover_ratio': 0.15953947368420987, 'trial': 1875, 'steps': 1, 'total_steps': 1876}, 'environment': None, 'performance': None}\n",
      "INFO:root:{'agent': {'population': 2867, 'numerosity': 2872, 'reliable': 56, 'fitness': 292.9820578448375, 'cover_ratio': 0.15940006975932963, 'trial': 1900, 'steps': 1, 'total_steps': 1901}, 'environment': None, 'performance': None}\n",
      "INFO:root:{'agent': {'population': 2860, 'numerosity': 2866, 'reliable': 56, 'fitness': 291.6899763870258, 'cover_ratio': 0.16035214785214716, 'trial': 1925, 'steps': 1, 'total_steps': 1926}, 'environment': None, 'performance': None}\n",
      "INFO:root:{'agent': {'population': 2905, 'numerosity': 2912, 'reliable': 58, 'fitness': 292.5548690202113, 'cover_ratio': 0.15954020162281707, 'trial': 1950, 'steps': 1, 'total_steps': 1951}, 'environment': None, 'performance': None}\n",
      "INFO:root:{'agent': {'population': 2907, 'numerosity': 2914, 'reliable': 62, 'fitness': 292.89955408412095, 'cover_ratio': 0.15997100594623745, 'trial': 1975, 'steps': 1, 'total_steps': 1976}, 'environment': None, 'performance': None}\n",
      "INFO:root:{'agent': {'population': 2923, 'numerosity': 2930, 'reliable': 63, 'fitness': 295.7023794379967, 'cover_ratio': 0.15728703386931162, 'trial': 2000, 'steps': 1, 'total_steps': 2001}, 'environment': None, 'performance': None}\n",
      "INFO:root:{'agent': {'population': 2886, 'numerosity': 2893, 'reliable': 66, 'fitness': 296.5071571960752, 'cover_ratio': 0.15655628155628076, 'trial': 2025, 'steps': 1, 'total_steps': 2026}, 'environment': None, 'performance': None}\n",
      "INFO:root:{'agent': {'population': 2855, 'numerosity': 2862, 'reliable': 66, 'fitness': 296.8740649486338, 'cover_ratio': 0.15656742556917613, 'trial': 2050, 'steps': 1, 'total_steps': 2051}, 'environment': None, 'performance': None}\n",
      "INFO:root:{'agent': {'population': 2833, 'numerosity': 2843, 'reliable': 72, 'fitness': 297.8455712550247, 'cover_ratio': 0.15572840502243893, 'trial': 2075, 'steps': 1, 'total_steps': 2076}, 'environment': None, 'performance': None}\n",
      "INFO:root:{'agent': {'population': 2829, 'numerosity': 2839, 'reliable': 83, 'fitness': 298.4536160702157, 'cover_ratio': 0.1575518860778663, 'trial': 2100, 'steps': 1, 'total_steps': 2101}, 'environment': None, 'performance': None}\n",
      "INFO:root:{'agent': {'population': 2839, 'numerosity': 2850, 'reliable': 94, 'fitness': 299.5826565414706, 'cover_ratio': 0.15995320283802072, 'trial': 2125, 'steps': 1, 'total_steps': 2126}, 'environment': None, 'performance': None}\n",
      "INFO:root:{'agent': {'population': 2857, 'numerosity': 2868, 'reliable': 97, 'fitness': 298.6784736460758, 'cover_ratio': 0.1603205160258006, 'trial': 2150, 'steps': 1, 'total_steps': 2151}, 'environment': None, 'performance': None}\n",
      "INFO:root:{'agent': {'population': 2917, 'numerosity': 2929, 'reliable': 109, 'fitness': 296.8827443217692, 'cover_ratio': 0.16440570057299508, 'trial': 2175, 'steps': 1, 'total_steps': 2176}, 'environment': None, 'performance': None}\n",
      "INFO:root:{'agent': {'population': 2990, 'numerosity': 3003, 'reliable': 112, 'fitness': 294.78092135243077, 'cover_ratio': 0.16660296225513552, 'trial': 2200, 'steps': 1, 'total_steps': 2201}, 'environment': None, 'performance': None}\n",
      "INFO:root:{'agent': {'population': 2976, 'numerosity': 2989, 'reliable': 115, 'fitness': 296.9054683402626, 'cover_ratio': 0.16203437019969216, 'trial': 2225, 'steps': 1, 'total_steps': 2226}, 'environment': None, 'performance': None}\n",
      "INFO:root:{'agent': {'population': 2975, 'numerosity': 2988, 'reliable': 119, 'fitness': 296.8008314927021, 'cover_ratio': 0.16141656662665002, 'trial': 2250, 'steps': 1, 'total_steps': 2251}, 'environment': None, 'performance': None}\n",
      "INFO:root:{'agent': {'population': 3032, 'numerosity': 3046, 'reliable': 125, 'fitness': 295.3853476936122, 'cover_ratio': 0.1596541650961169, 'trial': 2275, 'steps': 1, 'total_steps': 2276}, 'environment': None, 'performance': None}\n",
      "INFO:root:{'agent': {'population': 3058, 'numerosity': 3073, 'reliable': 128, 'fitness': 294.4979932196562, 'cover_ratio': 0.15972157339063744, 'trial': 2300, 'steps': 1, 'total_steps': 2301}, 'environment': None, 'performance': None}\n",
      "INFO:root:{'agent': {'population': 3017, 'numerosity': 3033, 'reliable': 133, 'fitness': 296.9819898353573, 'cover_ratio': 0.15754770585728425, 'trial': 2325, 'steps': 1, 'total_steps': 2326}, 'environment': None, 'performance': None}\n",
      "INFO:root:{'agent': {'population': 2998, 'numerosity': 3015, 'reliable': 138, 'fitness': 299.67729109644813, 'cover_ratio': 0.1555799104164675, 'trial': 2350, 'steps': 1, 'total_steps': 2351}, 'environment': None, 'performance': None}\n",
      "INFO:root:{'agent': {'population': 2990, 'numerosity': 3007, 'reliable': 150, 'fitness': 299.76851633126483, 'cover_ratio': 0.15494505494505428, 'trial': 2375, 'steps': 1, 'total_steps': 2376}, 'environment': None, 'performance': None}\n",
      "INFO:root:{'agent': {'population': 2934, 'numerosity': 2951, 'reliable': 152, 'fitness': 301.32823377768085, 'cover_ratio': 0.1519743889375786, 'trial': 2400, 'steps': 1, 'total_steps': 2401}, 'environment': None, 'performance': None}\n",
      "INFO:root:{'agent': {'population': 2903, 'numerosity': 2924, 'reliable': 158, 'fitness': 302.9539145752019, 'cover_ratio': 0.15180109246592138, 'trial': 2425, 'steps': 1, 'total_steps': 2426}, 'environment': None, 'performance': None}\n",
      "INFO:root:{'agent': {'population': 2904, 'numerosity': 2925, 'reliable': 167, 'fitness': 303.73097040084775, 'cover_ratio': 0.15258510428964922, 'trial': 2450, 'steps': 1, 'total_steps': 2451}, 'environment': None, 'performance': None}\n",
      "INFO:root:{'agent': {'population': 2884, 'numerosity': 2905, 'reliable': 177, 'fitness': 304.8420032489464, 'cover_ratio': 0.152243907271646, 'trial': 2475, 'steps': 1, 'total_steps': 2476}, 'environment': None, 'performance': None}\n",
      "INFO:root:{'agent': {'population': 2897, 'numerosity': 2919, 'reliable': 183, 'fitness': 303.95596206961676, 'cover_ratio': 0.15373046008185753, 'trial': 2500, 'steps': 1, 'total_steps': 2501}, 'environment': None, 'performance': None}\n",
      "INFO:root:{'agent': {'population': 2889, 'numerosity': 2913, 'reliable': 187, 'fitness': 304.8562446878413, 'cover_ratio': 0.15445285071453238, 'trial': 2525, 'steps': 1, 'total_steps': 2526}, 'environment': None, 'performance': None}\n",
      "INFO:root:{'agent': {'population': 2881, 'numerosity': 2906, 'reliable': 189, 'fitness': 305.1396439872399, 'cover_ratio': 0.15299747111617926, 'trial': 2550, 'steps': 1, 'total_steps': 2551}, 'environment': None, 'performance': None}\n",
      "INFO:root:{'agent': {'population': 2885, 'numerosity': 2911, 'reliable': 195, 'fitness': 306.1369415345568, 'cover_ratio': 0.15388710076751613, 'trial': 2575, 'steps': 1, 'total_steps': 2576}, 'environment': None, 'performance': None}\n",
      "INFO:root:{'agent': {'population': 2897, 'numerosity': 2924, 'reliable': 195, 'fitness': 306.46283280664625, 'cover_ratio': 0.15532077518615253, 'trial': 2600, 'steps': 1, 'total_steps': 2601}, 'environment': None, 'performance': None}\n",
      "INFO:root:{'agent': {'population': 2869, 'numerosity': 2898, 'reliable': 197, 'fitness': 306.8511830016483, 'cover_ratio': 0.15530548224866741, 'trial': 2625, 'steps': 1, 'total_steps': 2626}, 'environment': None, 'performance': None}\n",
      "INFO:root:{'agent': {'population': 2844, 'numerosity': 2873, 'reliable': 197, 'fitness': 307.3684943639858, 'cover_ratio': 0.15791390395820715, 'trial': 2650, 'steps': 1, 'total_steps': 2651}, 'environment': None, 'performance': None}\n"
     ]
    },
    {
     "name": "stderr",
     "output_type": "stream",
     "text": [
      "INFO:root:{'agent': {'population': 2868, 'numerosity': 2899, 'reliable': 202, 'fitness': 307.03292108972647, 'cover_ratio': 0.1584229926280129, 'trial': 2675, 'steps': 1, 'total_steps': 2676}, 'environment': None, 'performance': None}\n",
      "INFO:root:{'agent': {'population': 2842, 'numerosity': 2877, 'reliable': 209, 'fitness': 308.19890328989055, 'cover_ratio': 0.15678093897657522, 'trial': 2700, 'steps': 1, 'total_steps': 2701}, 'environment': None, 'performance': None}\n",
      "INFO:root:{'agent': {'population': 2837, 'numerosity': 2873, 'reliable': 210, 'fitness': 307.93087024699213, 'cover_ratio': 0.1554333047988311, 'trial': 2725, 'steps': 1, 'total_steps': 2726}, 'environment': None, 'performance': None}\n",
      "INFO:root:{'agent': {'population': 2827, 'numerosity': 2863, 'reliable': 217, 'fitness': 307.8457009210702, 'cover_ratio': 0.1541260296124103, 'trial': 2750, 'steps': 1, 'total_steps': 2751}, 'environment': None, 'performance': None}\n",
      "INFO:root:{'agent': {'population': 2838, 'numerosity': 2875, 'reliable': 216, 'fitness': 308.8988745708823, 'cover_ratio': 0.1539942615524004, 'trial': 2775, 'steps': 1, 'total_steps': 2776}, 'environment': None, 'performance': None}\n",
      "INFO:root:{'agent': {'population': 2851, 'numerosity': 2894, 'reliable': 216, 'fitness': 309.0591575813575, 'cover_ratio': 0.15435686726461822, 'trial': 2800, 'steps': 1, 'total_steps': 2801}, 'environment': None, 'performance': None}\n",
      "INFO:root:{'agent': {'population': 2818, 'numerosity': 2862, 'reliable': 221, 'fitness': 309.7155805883123, 'cover_ratio': 0.15279326776842678, 'trial': 2825, 'steps': 1, 'total_steps': 2826}, 'environment': None, 'performance': None}\n",
      "INFO:root:{'agent': {'population': 2834, 'numerosity': 2881, 'reliable': 228, 'fitness': 309.6430558272481, 'cover_ratio': 0.15533319891117983, 'trial': 2850, 'steps': 1, 'total_steps': 2851}, 'environment': None, 'performance': None}\n",
      "INFO:root:{'agent': {'population': 2838, 'numerosity': 2886, 'reliable': 228, 'fitness': 310.0094008837956, 'cover_ratio': 0.15535336756266913, 'trial': 2875, 'steps': 1, 'total_steps': 2876}, 'environment': None, 'performance': None}\n",
      "INFO:root:{'agent': {'population': 2862, 'numerosity': 2912, 'reliable': 237, 'fitness': 310.1909608357395, 'cover_ratio': 0.15749475890985248, 'trial': 2900, 'steps': 1, 'total_steps': 2901}, 'environment': None, 'performance': None}\n",
      "INFO:root:{'agent': {'population': 2855, 'numerosity': 2908, 'reliable': 237, 'fitness': 310.5644198781607, 'cover_ratio': 0.1575931948961714, 'trial': 2925, 'steps': 1, 'total_steps': 2926}, 'environment': None, 'performance': None}\n",
      "INFO:root:{'agent': {'population': 2847, 'numerosity': 2903, 'reliable': 237, 'fitness': 312.1555273219701, 'cover_ratio': 0.15517587435395577, 'trial': 2950, 'steps': 1, 'total_steps': 2951}, 'environment': None, 'performance': None}\n",
      "INFO:root:{'agent': {'population': 2821, 'numerosity': 2880, 'reliable': 235, 'fitness': 312.855187160208, 'cover_ratio': 0.15274472071707024, 'trial': 2975, 'steps': 1, 'total_steps': 2976}, 'environment': None, 'performance': None}\n",
      "INFO:root:{'agent': {'population': 2816, 'numerosity': 2876, 'reliable': 236, 'fitness': 313.0114129288552, 'cover_ratio': 0.15315543831168763, 'trial': 3000, 'steps': 1, 'total_steps': 3001}, 'environment': None, 'performance': None}\n",
      "INFO:root:{'agent': {'population': 2846, 'numerosity': 2906, 'reliable': 235, 'fitness': 312.52407597886236, 'cover_ratio': 0.15405079811263855, 'trial': 3025, 'steps': 1, 'total_steps': 3026}, 'environment': None, 'performance': None}\n",
      "INFO:root:{'agent': {'population': 2814, 'numerosity': 2879, 'reliable': 237, 'fitness': 315.2401744258818, 'cover_ratio': 0.15209665955934545, 'trial': 3050, 'steps': 1, 'total_steps': 3051}, 'environment': None, 'performance': None}\n",
      "INFO:root:{'agent': {'population': 2750, 'numerosity': 2816, 'reliable': 237, 'fitness': 315.38507507224506, 'cover_ratio': 0.15290909090909025, 'trial': 3075, 'steps': 1, 'total_steps': 3076}, 'environment': None, 'performance': None}\n",
      "INFO:root:{'agent': {'population': 2761, 'numerosity': 2828, 'reliable': 239, 'fitness': 316.2509140316074, 'cover_ratio': 0.15281730221969198, 'trial': 3100, 'steps': 1, 'total_steps': 3101}, 'environment': None, 'performance': None}\n",
      "INFO:root:{'agent': {'population': 2738, 'numerosity': 2804, 'reliable': 241, 'fitness': 318.47014784011714, 'cover_ratio': 0.1496008556819361, 'trial': 3125, 'steps': 1, 'total_steps': 3126}, 'environment': None, 'performance': None}\n",
      "INFO:root:{'agent': {'population': 2723, 'numerosity': 2793, 'reliable': 240, 'fitness': 319.39683652917535, 'cover_ratio': 0.14907402549708762, 'trial': 3150, 'steps': 1, 'total_steps': 3151}, 'environment': None, 'performance': None}\n",
      "INFO:root:{'agent': {'population': 2718, 'numerosity': 2788, 'reliable': 237, 'fitness': 317.3320518040076, 'cover_ratio': 0.14806054872279978, 'trial': 3175, 'steps': 1, 'total_steps': 3176}, 'environment': None, 'performance': None}\n",
      "INFO:root:{'agent': {'population': 2694, 'numerosity': 2769, 'reliable': 232, 'fitness': 315.4038977127315, 'cover_ratio': 0.14703308940502643, 'trial': 3200, 'steps': 1, 'total_steps': 3201}, 'environment': None, 'performance': None}\n",
      "INFO:root:{'agent': {'population': 2709, 'numerosity': 2785, 'reliable': 235, 'fitness': 313.8208605165266, 'cover_ratio': 0.1496466803775768, 'trial': 3225, 'steps': 1, 'total_steps': 3226}, 'environment': None, 'performance': None}\n",
      "INFO:root:{'agent': {'population': 2697, 'numerosity': 2772, 'reliable': 239, 'fitness': 315.597532429272, 'cover_ratio': 0.147928915726468, 'trial': 3250, 'steps': 1, 'total_steps': 3251}, 'environment': None, 'performance': None}\n",
      "INFO:root:{'agent': {'population': 2701, 'numerosity': 2777, 'reliable': 239, 'fitness': 316.1608062477737, 'cover_ratio': 0.14778917861109586, 'trial': 3275, 'steps': 1, 'total_steps': 3276}, 'environment': None, 'performance': None}\n",
      "INFO:root:{'agent': {'population': 2722, 'numerosity': 2803, 'reliable': 243, 'fitness': 316.1422809007227, 'cover_ratio': 0.14840715860186776, 'trial': 3300, 'steps': 1, 'total_steps': 3301}, 'environment': None, 'performance': None}\n",
      "INFO:root:{'agent': {'population': 2714, 'numerosity': 2794, 'reliable': 242, 'fitness': 316.10026467708144, 'cover_ratio': 0.14598905147910246, 'trial': 3325, 'steps': 1, 'total_steps': 3326}, 'environment': None, 'performance': None}\n",
      "INFO:root:{'agent': {'population': 2726, 'numerosity': 2808, 'reliable': 241, 'fitness': 317.0350392456343, 'cover_ratio': 0.146787548475002, 'trial': 3350, 'steps': 1, 'total_steps': 3351}, 'environment': None, 'performance': None}\n",
      "INFO:root:{'agent': {'population': 2711, 'numerosity': 2793, 'reliable': 242, 'fitness': 316.8942609252449, 'cover_ratio': 0.146058386467829, 'trial': 3375, 'steps': 1, 'total_steps': 3376}, 'environment': None, 'performance': None}\n",
      "INFO:root:{'agent': {'population': 2708, 'numerosity': 2789, 'reliable': 237, 'fitness': 317.3049645516824, 'cover_ratio': 0.14457163958641014, 'trial': 3400, 'steps': 1, 'total_steps': 3401}, 'environment': None, 'performance': None}\n",
      "INFO:root:{'agent': {'population': 2721, 'numerosity': 2808, 'reliable': 240, 'fitness': 317.04813678885824, 'cover_ratio': 0.14665039113771147, 'trial': 3425, 'steps': 1, 'total_steps': 3426}, 'environment': None, 'performance': None}\n",
      "INFO:root:{'agent': {'population': 2716, 'numerosity': 2807, 'reliable': 235, 'fitness': 315.6463116616645, 'cover_ratio': 0.14592099726488486, 'trial': 3450, 'steps': 1, 'total_steps': 3451}, 'environment': None, 'performance': None}\n",
      "INFO:root:{'agent': {'population': 2750, 'numerosity': 2841, 'reliable': 239, 'fitness': 314.0316175302909, 'cover_ratio': 0.14722077922077872, 'trial': 3475, 'steps': 1, 'total_steps': 3476}, 'environment': None, 'performance': None}\n",
      "INFO:root:{'agent': {'population': 2774, 'numerosity': 2868, 'reliable': 238, 'fitness': 313.6670382120401, 'cover_ratio': 0.14889535482541918, 'trial': 3500, 'steps': 1, 'total_steps': 3501}, 'environment': None, 'performance': None}\n",
      "INFO:root:{'agent': {'population': 2716, 'numerosity': 2811, 'reliable': 239, 'fitness': 317.70024920591015, 'cover_ratio': 0.15128602987586734, 'trial': 3525, 'steps': 1, 'total_steps': 3526}, 'environment': None, 'performance': None}\n"
     ]
    },
    {
     "name": "stderr",
     "output_type": "stream",
     "text": [
      "INFO:root:{'agent': {'population': 2715, 'numerosity': 2811, 'reliable': 240, 'fitness': 320.1887324569485, 'cover_ratio': 0.14976322020520863, 'trial': 3550, 'steps': 1, 'total_steps': 3551}, 'environment': None, 'performance': None}\n",
      "INFO:root:{'agent': {'population': 2707, 'numerosity': 2806, 'reliable': 241, 'fitness': 321.85607190402396, 'cover_ratio': 0.1486621985329037, 'trial': 3575, 'steps': 1, 'total_steps': 3576}, 'environment': None, 'performance': None}\n",
      "INFO:root:{'agent': {'population': 2684, 'numerosity': 2785, 'reliable': 237, 'fitness': 320.23606479496107, 'cover_ratio': 0.1482994464551838, 'trial': 3600, 'steps': 1, 'total_steps': 3601}, 'environment': None, 'performance': None}\n",
      "INFO:root:{'agent': {'population': 2655, 'numerosity': 2757, 'reliable': 237, 'fitness': 320.8635750822725, 'cover_ratio': 0.14718859295130446, 'trial': 3625, 'steps': 1, 'total_steps': 3626}, 'environment': None, 'performance': None}\n",
      "INFO:root:{'agent': {'population': 2643, 'numerosity': 2747, 'reliable': 245, 'fitness': 321.2992214507219, 'cover_ratio': 0.14476244527322807, 'trial': 3650, 'steps': 1, 'total_steps': 3651}, 'environment': None, 'performance': None}\n",
      "INFO:root:{'agent': {'population': 2632, 'numerosity': 2738, 'reliable': 246, 'fitness': 323.6317663867091, 'cover_ratio': 0.1444176074685189, 'trial': 3675, 'steps': 1, 'total_steps': 3676}, 'environment': None, 'performance': None}\n",
      "INFO:root:{'agent': {'population': 2634, 'numerosity': 2742, 'reliable': 246, 'fitness': 323.18265183957556, 'cover_ratio': 0.14463336587482334, 'trial': 3700, 'steps': 1, 'total_steps': 3701}, 'environment': None, 'performance': None}\n",
      "INFO:root:{'agent': {'population': 2650, 'numerosity': 2760, 'reliable': 248, 'fitness': 324.66761603172404, 'cover_ratio': 0.14506738544474346, 'trial': 3725, 'steps': 1, 'total_steps': 3726}, 'environment': None, 'performance': None}\n",
      "INFO:root:{'agent': {'population': 2668, 'numerosity': 2781, 'reliable': 248, 'fitness': 323.7512418427761, 'cover_ratio': 0.14744859713000594, 'trial': 3750, 'steps': 1, 'total_steps': 3751}, 'environment': None, 'performance': None}\n",
      "INFO:root:{'agent': {'population': 2667, 'numerosity': 2784, 'reliable': 248, 'fitness': 321.72813017624657, 'cover_ratio': 0.1466736300819535, 'trial': 3775, 'steps': 1, 'total_steps': 3776}, 'environment': None, 'performance': None}\n",
      "INFO:root:{'agent': {'population': 2642, 'numerosity': 2760, 'reliable': 240, 'fitness': 319.06776480814176, 'cover_ratio': 0.14315453660646643, 'trial': 3800, 'steps': 1, 'total_steps': 3801}, 'environment': None, 'performance': None}\n",
      "INFO:root:{'agent': {'population': 2654, 'numerosity': 2778, 'reliable': 241, 'fitness': 317.5231885850093, 'cover_ratio': 0.14515825169555333, 'trial': 3825, 'steps': 1, 'total_steps': 3826}, 'environment': None, 'performance': None}\n",
      "INFO:root:{'agent': {'population': 2634, 'numerosity': 2757, 'reliable': 239, 'fitness': 317.8945737792895, 'cover_ratio': 0.14193513396246826, 'trial': 3850, 'steps': 1, 'total_steps': 3851}, 'environment': None, 'performance': None}\n",
      "INFO:root:{'agent': {'population': 2629, 'numerosity': 2756, 'reliable': 239, 'fitness': 319.3331833952304, 'cover_ratio': 0.1417024398195941, 'trial': 3875, 'steps': 1, 'total_steps': 3876}, 'environment': None, 'performance': None}\n",
      "INFO:root:{'agent': {'population': 2636, 'numerosity': 2767, 'reliable': 238, 'fitness': 318.4630180286992, 'cover_ratio': 0.14289778885757587, 'trial': 3900, 'steps': 1, 'total_steps': 3901}, 'environment': None, 'performance': None}\n",
      "INFO:root:{'agent': {'population': 2642, 'numerosity': 2773, 'reliable': 239, 'fitness': 318.5718656674455, 'cover_ratio': 0.1430734292202871, 'trial': 3925, 'steps': 1, 'total_steps': 3926}, 'environment': None, 'performance': None}\n",
      "INFO:root:{'agent': {'population': 2655, 'numerosity': 2786, 'reliable': 239, 'fitness': 319.3373377149684, 'cover_ratio': 0.14190207156308793, 'trial': 3950, 'steps': 1, 'total_steps': 3951}, 'environment': None, 'performance': None}\n",
      "INFO:root:{'agent': {'population': 2629, 'numerosity': 2760, 'reliable': 233, 'fitness': 318.5950644916559, 'cover_ratio': 0.13969189806009824, 'trial': 3975, 'steps': 1, 'total_steps': 3976}, 'environment': None, 'performance': None}\n",
      "INFO:root:{'agent': {'population': 2623, 'numerosity': 2753, 'reliable': 236, 'fitness': 322.2523535033118, 'cover_ratio': 0.13664833070094157, 'trial': 4000, 'steps': 1, 'total_steps': 4001}, 'environment': None, 'performance': None}\n",
      "INFO:root:{'agent': {'population': 2634, 'numerosity': 2766, 'reliable': 235, 'fitness': 322.9273458572152, 'cover_ratio': 0.13565733810608474, 'trial': 4025, 'steps': 1, 'total_steps': 4026}, 'environment': None, 'performance': None}\n",
      "INFO:root:{'agent': {'population': 2618, 'numerosity': 2750, 'reliable': 234, 'fitness': 323.16189403565585, 'cover_ratio': 0.13420822874604338, 'trial': 4050, 'steps': 1, 'total_steps': 4051}, 'environment': None, 'performance': None}\n",
      "INFO:root:{'agent': {'population': 2602, 'numerosity': 2736, 'reliable': 231, 'fitness': 321.705490505095, 'cover_ratio': 0.13334522894476727, 'trial': 4075, 'steps': 1, 'total_steps': 4076}, 'environment': None, 'performance': None}\n",
      "INFO:root:{'agent': {'population': 2600, 'numerosity': 2733, 'reliable': 229, 'fitness': 321.74541719664074, 'cover_ratio': 0.13390109890109853, 'trial': 4100, 'steps': 1, 'total_steps': 4101}, 'environment': None, 'performance': None}\n",
      "INFO:root:{'agent': {'population': 2668, 'numerosity': 2801, 'reliable': 230, 'fitness': 319.6933384833666, 'cover_ratio': 0.1411437138573567, 'trial': 4125, 'steps': 1, 'total_steps': 4126}, 'environment': None, 'performance': None}\n",
      "INFO:root:{'agent': {'population': 2626, 'numerosity': 2762, 'reliable': 231, 'fitness': 323.26103542414324, 'cover_ratio': 0.13585300837776063, 'trial': 4150, 'steps': 1, 'total_steps': 4151}, 'environment': None, 'performance': None}\n",
      "INFO:root:{'agent': {'population': 2637, 'numerosity': 2773, 'reliable': 232, 'fitness': 323.25618455412246, 'cover_ratio': 0.13649168427325398, 'trial': 4175, 'steps': 1, 'total_steps': 4176}, 'environment': None, 'performance': None}\n",
      "INFO:root:{'agent': {'population': 2638, 'numerosity': 2778, 'reliable': 230, 'fitness': 322.4462630486405, 'cover_ratio': 0.1375907072457487, 'trial': 4200, 'steps': 1, 'total_steps': 4201}, 'environment': None, 'performance': None}\n",
      "INFO:root:{'agent': {'population': 2643, 'numerosity': 2785, 'reliable': 232, 'fitness': 324.17088145386896, 'cover_ratio': 0.13561429111939874, 'trial': 4225, 'steps': 1, 'total_steps': 4226}, 'environment': None, 'performance': None}\n",
      "INFO:root:{'agent': {'population': 2635, 'numerosity': 2781, 'reliable': 229, 'fitness': 323.4746065015821, 'cover_ratio': 0.13343724586608827, 'trial': 4250, 'steps': 1, 'total_steps': 4251}, 'environment': None, 'performance': None}\n",
      "INFO:root:{'agent': {'population': 2614, 'numerosity': 2759, 'reliable': 229, 'fitness': 324.0724721118958, 'cover_ratio': 0.13199530003279042, 'trial': 4275, 'steps': 1, 'total_steps': 4276}, 'environment': None, 'performance': None}\n",
      "INFO:root:{'agent': {'population': 2609, 'numerosity': 2752, 'reliable': 224, 'fitness': 322.3787031976009, 'cover_ratio': 0.13130372885068176, 'trial': 4300, 'steps': 1, 'total_steps': 4301}, 'environment': None, 'performance': None}\n",
      "INFO:root:{'agent': {'population': 2671, 'numerosity': 2814, 'reliable': 227, 'fitness': 320.0525903681765, 'cover_ratio': 0.1407846178531315, 'trial': 4325, 'steps': 1, 'total_steps': 4326}, 'environment': None, 'performance': None}\n",
      "INFO:root:{'agent': {'population': 2637, 'numerosity': 2780, 'reliable': 227, 'fitness': 321.8424327786661, 'cover_ratio': 0.13966087003629662, 'trial': 4350, 'steps': 1, 'total_steps': 4351}, 'environment': None, 'performance': None}\n",
      "INFO:root:{'agent': {'population': 2576, 'numerosity': 2719, 'reliable': 224, 'fitness': 322.2140928592329, 'cover_ratio': 0.13374833629103808, 'trial': 4375, 'steps': 1, 'total_steps': 4376}, 'environment': None, 'performance': None}\n",
      "INFO:root:{'agent': {'population': 2569, 'numerosity': 2714, 'reliable': 229, 'fitness': 322.4717928616367, 'cover_ratio': 0.13369571261747198, 'trial': 4400, 'steps': 1, 'total_steps': 4401}, 'environment': None, 'performance': None}\n"
     ]
    },
    {
     "name": "stderr",
     "output_type": "stream",
     "text": [
      "INFO:root:{'agent': {'population': 2522, 'numerosity': 2666, 'reliable': 229, 'fitness': 324.92318404554334, 'cover_ratio': 0.12794550810014718, 'trial': 4425, 'steps': 1, 'total_steps': 4426}, 'environment': None, 'performance': None}\n",
      "INFO:root:{'agent': {'population': 2505, 'numerosity': 2648, 'reliable': 233, 'fitness': 327.65297716607546, 'cover_ratio': 0.12690333618477329, 'trial': 4450, 'steps': 1, 'total_steps': 4451}, 'environment': None, 'performance': None}\n",
      "INFO:root:{'agent': {'population': 2497, 'numerosity': 2643, 'reliable': 234, 'fitness': 328.1969483398584, 'cover_ratio': 0.12742433777676068, 'trial': 4475, 'steps': 1, 'total_steps': 4476}, 'environment': None, 'performance': None}\n",
      "INFO:root:{'agent': {'population': 2476, 'numerosity': 2623, 'reliable': 241, 'fitness': 329.66675607889664, 'cover_ratio': 0.12787041310870062, 'trial': 4500, 'steps': 1, 'total_steps': 4501}, 'environment': None, 'performance': None}\n",
      "INFO:root:{'agent': {'population': 2482, 'numerosity': 2631, 'reliable': 245, 'fitness': 330.3627701008257, 'cover_ratio': 0.12868366524692063, 'trial': 4525, 'steps': 1, 'total_steps': 4526}, 'environment': None, 'performance': None}\n",
      "INFO:root:{'agent': {'population': 2469, 'numerosity': 2619, 'reliable': 240, 'fitness': 328.16090020908945, 'cover_ratio': 0.12743736619799803, 'trial': 4550, 'steps': 1, 'total_steps': 4551}, 'environment': None, 'performance': None}\n",
      "INFO:root:{'agent': {'population': 2456, 'numerosity': 2606, 'reliable': 236, 'fitness': 324.12557537459804, 'cover_ratio': 0.12898441135411826, 'trial': 4575, 'steps': 1, 'total_steps': 4576}, 'environment': None, 'performance': None}\n",
      "INFO:root:{'agent': {'population': 2442, 'numerosity': 2594, 'reliable': 235, 'fitness': 324.9418552453805, 'cover_ratio': 0.12764712764712768, 'trial': 4600, 'steps': 1, 'total_steps': 4601}, 'environment': None, 'performance': None}\n",
      "INFO:root:{'agent': {'population': 2421, 'numerosity': 2573, 'reliable': 237, 'fitness': 325.517861806482, 'cover_ratio': 0.12639405204460966, 'trial': 4625, 'steps': 1, 'total_steps': 4626}, 'environment': None, 'performance': None}\n",
      "INFO:root:{'agent': {'population': 2440, 'numerosity': 2591, 'reliable': 237, 'fitness': 322.96592689436346, 'cover_ratio': 0.12756147540983603, 'trial': 4650, 'steps': 1, 'total_steps': 4651}, 'environment': None, 'performance': None}\n",
      "INFO:root:{'agent': {'population': 2449, 'numerosity': 2600, 'reliable': 238, 'fitness': 322.5694979514047, 'cover_ratio': 0.1291489237589687, 'trial': 4675, 'steps': 1, 'total_steps': 4676}, 'environment': None, 'performance': None}\n",
      "INFO:root:{'agent': {'population': 2441, 'numerosity': 2592, 'reliable': 238, 'fitness': 324.5670391026759, 'cover_ratio': 0.12747995552174174, 'trial': 4700, 'steps': 1, 'total_steps': 4701}, 'environment': None, 'performance': None}\n",
      "INFO:root:{'agent': {'population': 2453, 'numerosity': 2606, 'reliable': 239, 'fitness': 323.39569979284465, 'cover_ratio': 0.13023411566012463, 'trial': 4725, 'steps': 1, 'total_steps': 4726}, 'environment': None, 'performance': None}\n",
      "INFO:root:{'agent': {'population': 2419, 'numerosity': 2575, 'reliable': 227, 'fitness': 319.2798501848541, 'cover_ratio': 0.12757633024272128, 'trial': 4750, 'steps': 1, 'total_steps': 4751}, 'environment': None, 'performance': None}\n",
      "INFO:root:{'agent': {'population': 2396, 'numerosity': 2554, 'reliable': 229, 'fitness': 321.1391123254559, 'cover_ratio': 0.12620736942523259, 'trial': 4775, 'steps': 1, 'total_steps': 4776}, 'environment': None, 'performance': None}\n",
      "INFO:root:{'agent': {'population': 2408, 'numerosity': 2560, 'reliable': 232, 'fitness': 321.84869948668694, 'cover_ratio': 0.12701708590412913, 'trial': 4800, 'steps': 1, 'total_steps': 4801}, 'environment': None, 'performance': None}\n",
      "INFO:root:{'agent': {'population': 2382, 'numerosity': 2534, 'reliable': 232, 'fitness': 325.06180036095725, 'cover_ratio': 0.1237405541561714, 'trial': 4825, 'steps': 1, 'total_steps': 4826}, 'environment': None, 'performance': None}\n",
      "INFO:root:{'agent': {'population': 2383, 'numerosity': 2533, 'reliable': 232, 'fitness': 324.61935396705627, 'cover_ratio': 0.12373358911336267, 'trial': 4850, 'steps': 1, 'total_steps': 4851}, 'environment': None, 'performance': None}\n",
      "INFO:root:{'agent': {'population': 2379, 'numerosity': 2531, 'reliable': 231, 'fitness': 324.36026445486453, 'cover_ratio': 0.12367141055665658, 'trial': 4875, 'steps': 1, 'total_steps': 4876}, 'environment': None, 'performance': None}\n",
      "INFO:root:{'agent': {'population': 2405, 'numerosity': 2558, 'reliable': 234, 'fitness': 323.5747513130403, 'cover_ratio': 0.1252598752598754, 'trial': 4900, 'steps': 1, 'total_steps': 4901}, 'environment': None, 'performance': None}\n",
      "INFO:root:{'agent': {'population': 2403, 'numerosity': 2555, 'reliable': 231, 'fitness': 323.55553859463686, 'cover_ratio': 0.12582486177991808, 'trial': 4925, 'steps': 1, 'total_steps': 4926}, 'environment': None, 'performance': None}\n",
      "INFO:root:{'agent': {'population': 2407, 'numerosity': 2558, 'reliable': 230, 'fitness': 320.43549423358564, 'cover_ratio': 0.12696599204700584, 'trial': 4950, 'steps': 1, 'total_steps': 4951}, 'environment': None, 'performance': None}\n",
      "INFO:root:{'agent': {'population': 2406, 'numerosity': 2560, 'reliable': 233, 'fitness': 319.48018836319625, 'cover_ratio': 0.1282508015675099, 'trial': 4975, 'steps': 1, 'total_steps': 4976}, 'environment': None, 'performance': None}\n",
      "INFO:root:{'agent': {'population': 2407, 'numerosity': 2561, 'reliable': 232, 'fitness': 320.65987407370983, 'cover_ratio': 0.1270253427503117, 'trial': 5000, 'steps': 1, 'total_steps': 5001}, 'environment': None, 'performance': None}\n",
      "INFO:root:{'agent': {'population': 2416, 'numerosity': 2568, 'reliable': 232, 'fitness': 322.756544231937, 'cover_ratio': 0.1259312913907285, 'trial': 5025, 'steps': 1, 'total_steps': 5026}, 'environment': None, 'performance': None}\n",
      "INFO:root:{'agent': {'population': 2403, 'numerosity': 2554, 'reliable': 234, 'fitness': 323.5531355976351, 'cover_ratio': 0.12411568872243034, 'trial': 5050, 'steps': 1, 'total_steps': 5051}, 'environment': None, 'performance': None}\n",
      "INFO:root:{'agent': {'population': 2438, 'numerosity': 2590, 'reliable': 234, 'fitness': 322.0352731312934, 'cover_ratio': 0.12659674206023677, 'trial': 5075, 'steps': 1, 'total_steps': 5076}, 'environment': None, 'performance': None}\n",
      "INFO:root:{'agent': {'population': 2419, 'numerosity': 2570, 'reliable': 232, 'fitness': 321.212216881185, 'cover_ratio': 0.12466780842142568, 'trial': 5100, 'steps': 1, 'total_steps': 5101}, 'environment': None, 'performance': None}\n",
      "INFO:root:{'agent': {'population': 2424, 'numerosity': 2577, 'reliable': 227, 'fitness': 319.1413151601984, 'cover_ratio': 0.1246169259783122, 'trial': 5125, 'steps': 1, 'total_steps': 5126}, 'environment': None, 'performance': None}\n",
      "INFO:root:{'agent': {'population': 2421, 'numerosity': 2576, 'reliable': 227, 'fitness': 319.21159984910724, 'cover_ratio': 0.12508113530418366, 'trial': 5150, 'steps': 1, 'total_steps': 5151}, 'environment': None, 'performance': None}\n",
      "INFO:root:{'agent': {'population': 2418, 'numerosity': 2574, 'reliable': 228, 'fitness': 319.70796573895717, 'cover_ratio': 0.12455689471818507, 'trial': 5175, 'steps': 1, 'total_steps': 5176}, 'environment': None, 'performance': None}\n",
      "INFO:root:{'agent': {'population': 2426, 'numerosity': 2584, 'reliable': 226, 'fitness': 317.8033346993328, 'cover_ratio': 0.12494111412083393, 'trial': 5200, 'steps': 1, 'total_steps': 5201}, 'environment': None, 'performance': None}\n",
      "INFO:root:{'agent': {'population': 2430, 'numerosity': 2589, 'reliable': 226, 'fitness': 317.18316678180594, 'cover_ratio': 0.12635214579659038, 'trial': 5225, 'steps': 1, 'total_steps': 5226}, 'environment': None, 'performance': None}\n",
      "INFO:root:{'agent': {'population': 2418, 'numerosity': 2569, 'reliable': 227, 'fitness': 317.90969399597265, 'cover_ratio': 0.12396608767576521, 'trial': 5250, 'steps': 1, 'total_steps': 5251}, 'environment': None, 'performance': None}\n",
      "INFO:root:{'agent': {'population': 2440, 'numerosity': 2592, 'reliable': 227, 'fitness': 317.0954101837564, 'cover_ratio': 0.12447306791569092, 'trial': 5275, 'steps': 1, 'total_steps': 5276}, 'environment': None, 'performance': None}\n"
     ]
    },
    {
     "name": "stderr",
     "output_type": "stream",
     "text": [
      "INFO:root:{'agent': {'population': 2433, 'numerosity': 2589, 'reliable': 225, 'fitness': 315.1526459403461, 'cover_ratio': 0.1250513769009453, 'trial': 5300, 'steps': 1, 'total_steps': 5301}, 'environment': None, 'performance': None}\n",
      "INFO:root:{'agent': {'population': 2442, 'numerosity': 2599, 'reliable': 226, 'fitness': 314.5814491427938, 'cover_ratio': 0.12480987480987478, 'trial': 5325, 'steps': 1, 'total_steps': 5326}, 'environment': None, 'performance': None}\n",
      "INFO:root:{'agent': {'population': 2444, 'numerosity': 2601, 'reliable': 228, 'fitness': 315.40788867404655, 'cover_ratio': 0.1245323825111058, 'trial': 5350, 'steps': 1, 'total_steps': 5351}, 'environment': None, 'performance': None}\n",
      "INFO:root:{'agent': {'population': 2459, 'numerosity': 2616, 'reliable': 228, 'fitness': 314.2123928715537, 'cover_ratio': 0.12465868820077824, 'trial': 5375, 'steps': 1, 'total_steps': 5376}, 'environment': None, 'performance': None}\n",
      "INFO:root:{'agent': {'population': 2433, 'numerosity': 2590, 'reliable': 229, 'fitness': 313.1771462723936, 'cover_ratio': 0.1251100933591686, 'trial': 5400, 'steps': 1, 'total_steps': 5401}, 'environment': None, 'performance': None}\n",
      "INFO:root:{'agent': {'population': 2472, 'numerosity': 2629, 'reliable': 231, 'fitness': 311.54549256393096, 'cover_ratio': 0.1330617198335645, 'trial': 5425, 'steps': 1, 'total_steps': 5426}, 'environment': None, 'performance': None}\n",
      "INFO:root:{'agent': {'population': 2434, 'numerosity': 2595, 'reliable': 231, 'fitness': 314.2309008222205, 'cover_ratio': 0.12828677074774025, 'trial': 5450, 'steps': 1, 'total_steps': 5451}, 'environment': None, 'performance': None}\n",
      "INFO:root:{'agent': {'population': 2373, 'numerosity': 2535, 'reliable': 227, 'fitness': 315.6909296602578, 'cover_ratio': 0.1253085304918428, 'trial': 5475, 'steps': 1, 'total_steps': 5476}, 'environment': None, 'performance': None}\n",
      "INFO:root:{'agent': {'population': 2358, 'numerosity': 2522, 'reliable': 229, 'fitness': 316.2473615015379, 'cover_ratio': 0.12481824790985091, 'trial': 5500, 'steps': 1, 'total_steps': 5501}, 'environment': None, 'performance': None}\n",
      "INFO:root:{'agent': {'population': 2373, 'numerosity': 2537, 'reliable': 228, 'fitness': 315.57285155464973, 'cover_ratio': 0.1264222503160556, 'trial': 5525, 'steps': 1, 'total_steps': 5526}, 'environment': None, 'performance': None}\n",
      "INFO:root:{'agent': {'population': 2366, 'numerosity': 2530, 'reliable': 229, 'fitness': 316.7558221642378, 'cover_ratio': 0.1254679386547519, 'trial': 5550, 'steps': 1, 'total_steps': 5551}, 'environment': None, 'performance': None}\n",
      "INFO:root:{'agent': {'population': 2389, 'numerosity': 2555, 'reliable': 231, 'fitness': 317.03639384008494, 'cover_ratio': 0.12608383663218334, 'trial': 5575, 'steps': 1, 'total_steps': 5576}, 'environment': None, 'performance': None}\n",
      "INFO:root:{'agent': {'population': 2445, 'numerosity': 2611, 'reliable': 228, 'fitness': 312.5170438865721, 'cover_ratio': 0.13515921706105768, 'trial': 5600, 'steps': 1, 'total_steps': 5601}, 'environment': None, 'performance': None}\n",
      "INFO:root:{'agent': {'population': 2452, 'numerosity': 2617, 'reliable': 227, 'fitness': 315.4293554989668, 'cover_ratio': 0.1334479142391053, 'trial': 5625, 'steps': 1, 'total_steps': 5626}, 'environment': None, 'performance': None}\n",
      "INFO:root:{'agent': {'population': 2437, 'numerosity': 2600, 'reliable': 224, 'fitness': 314.3562970303167, 'cover_ratio': 0.13086933583445712, 'trial': 5650, 'steps': 1, 'total_steps': 5651}, 'environment': None, 'performance': None}\n",
      "INFO:root:{'agent': {'population': 2443, 'numerosity': 2610, 'reliable': 224, 'fitness': 315.11410471196905, 'cover_ratio': 0.1323460616338227, 'trial': 5675, 'steps': 1, 'total_steps': 5676}, 'environment': None, 'performance': None}\n",
      "INFO:root:{'agent': {'population': 2427, 'numerosity': 2594, 'reliable': 226, 'fitness': 315.186119045146, 'cover_ratio': 0.1300400258991113, 'trial': 5700, 'steps': 1, 'total_steps': 5701}, 'environment': None, 'performance': None}\n",
      "INFO:root:{'agent': {'population': 2391, 'numerosity': 2558, 'reliable': 225, 'fitness': 315.5244495159373, 'cover_ratio': 0.12833841190177467, 'trial': 5725, 'steps': 1, 'total_steps': 5726}, 'environment': None, 'performance': None}\n",
      "INFO:root:{'agent': {'population': 2358, 'numerosity': 2528, 'reliable': 224, 'fitness': 314.4252685621548, 'cover_ratio': 0.12672664485641602, 'trial': 5750, 'steps': 1, 'total_steps': 5751}, 'environment': None, 'performance': None}\n",
      "INFO:root:{'agent': {'population': 2357, 'numerosity': 2532, 'reliable': 226, 'fitness': 312.3838211595789, 'cover_ratio': 0.12838656888296282, 'trial': 5775, 'steps': 1, 'total_steps': 5776}, 'environment': None, 'performance': None}\n",
      "INFO:root:{'agent': {'population': 2347, 'numerosity': 2514, 'reliable': 224, 'fitness': 312.3591569986447, 'cover_ratio': 0.1264227889707229, 'trial': 5800, 'steps': 1, 'total_steps': 5801}, 'environment': None, 'performance': None}\n",
      "INFO:root:{'agent': {'population': 2365, 'numerosity': 2533, 'reliable': 224, 'fitness': 309.1509739275456, 'cover_ratio': 0.12997583811537344, 'trial': 5825, 'steps': 1, 'total_steps': 5826}, 'environment': None, 'performance': None}\n",
      "INFO:root:{'agent': {'population': 2341, 'numerosity': 2507, 'reliable': 222, 'fitness': 307.6992494716775, 'cover_ratio': 0.12665527552328104, 'trial': 5850, 'steps': 1, 'total_steps': 5851}, 'environment': None, 'performance': None}\n",
      "INFO:root:{'agent': {'population': 2337, 'numerosity': 2505, 'reliable': 222, 'fitness': 307.3319221004151, 'cover_ratio': 0.12737636774864006, 'trial': 5875, 'steps': 1, 'total_steps': 5876}, 'environment': None, 'performance': None}\n",
      "INFO:root:{'agent': {'population': 2356, 'numerosity': 2523, 'reliable': 222, 'fitness': 304.6503171139049, 'cover_ratio': 0.1297447247150135, 'trial': 5900, 'steps': 1, 'total_steps': 5901}, 'environment': None, 'performance': None}\n",
      "INFO:root:{'agent': {'population': 2342, 'numerosity': 2506, 'reliable': 224, 'fitness': 303.3187058527256, 'cover_ratio': 0.13061180919848742, 'trial': 5925, 'steps': 1, 'total_steps': 5926}, 'environment': None, 'performance': None}\n",
      "INFO:root:{'agent': {'population': 2356, 'numerosity': 2521, 'reliable': 222, 'fitness': 301.43763763710075, 'cover_ratio': 0.13103322823186997, 'trial': 5950, 'steps': 1, 'total_steps': 5951}, 'environment': None, 'performance': None}\n",
      "INFO:root:{'agent': {'population': 2360, 'numerosity': 2525, 'reliable': 225, 'fitness': 302.6747305315183, 'cover_ratio': 0.13096246973365608, 'trial': 5975, 'steps': 1, 'total_steps': 5976}, 'environment': None, 'performance': None}\n",
      "INFO:root:{'agent': {'population': 2343, 'numerosity': 2508, 'reliable': 224, 'fitness': 302.40348029996443, 'cover_ratio': 0.130617035546613, 'trial': 6000, 'steps': 1, 'total_steps': 6001}, 'environment': None, 'performance': None}\n",
      "INFO:root:{'agent': {'population': 2348, 'numerosity': 2513, 'reliable': 222, 'fitness': 302.6162451343904, 'cover_ratio': 0.13047578486249672, 'trial': 6025, 'steps': 1, 'total_steps': 6026}, 'environment': None, 'performance': None}\n",
      "INFO:root:{'agent': {'population': 2360, 'numerosity': 2524, 'reliable': 221, 'fitness': 302.611213891043, 'cover_ratio': 0.13109866828087138, 'trial': 6050, 'steps': 1, 'total_steps': 6051}, 'environment': None, 'performance': None}\n",
      "INFO:root:{'agent': {'population': 2368, 'numerosity': 2535, 'reliable': 223, 'fitness': 303.5240397602698, 'cover_ratio': 0.1332197152509649, 'trial': 6075, 'steps': 1, 'total_steps': 6076}, 'environment': None, 'performance': None}\n",
      "INFO:root:{'agent': {'population': 2356, 'numerosity': 2525, 'reliable': 221, 'fitness': 305.1145727903315, 'cover_ratio': 0.13129092893524102, 'trial': 6100, 'steps': 1, 'total_steps': 6101}, 'environment': None, 'performance': None}\n",
      "INFO:root:{'agent': {'population': 2365, 'numerosity': 2533, 'reliable': 221, 'fitness': 306.06236395342034, 'cover_ratio': 0.13293566898218043, 'trial': 6125, 'steps': 1, 'total_steps': 6126}, 'environment': None, 'performance': None}\n",
      "INFO:root:{'agent': {'population': 2349, 'numerosity': 2515, 'reliable': 217, 'fitness': 304.25256886255585, 'cover_ratio': 0.12969044578239958, 'trial': 6150, 'steps': 1, 'total_steps': 6151}, 'environment': None, 'performance': None}\n"
     ]
    },
    {
     "name": "stderr",
     "output_type": "stream",
     "text": [
      "INFO:root:{'agent': {'population': 2334, 'numerosity': 2498, 'reliable': 217, 'fitness': 306.1646105358323, 'cover_ratio': 0.12584159627861402, 'trial': 6175, 'steps': 1, 'total_steps': 6176}, 'environment': None, 'performance': None}\n",
      "INFO:root:{'agent': {'population': 2351, 'numerosity': 2513, 'reliable': 216, 'fitness': 306.1955183244392, 'cover_ratio': 0.1267393814182412, 'trial': 6200, 'steps': 1, 'total_steps': 6201}, 'environment': None, 'performance': None}\n",
      "INFO:root:{'agent': {'population': 2354, 'numerosity': 2518, 'reliable': 217, 'fitness': 305.6490413652117, 'cover_ratio': 0.12747299429542394, 'trial': 6225, 'steps': 1, 'total_steps': 6226}, 'environment': None, 'performance': None}\n",
      "INFO:root:{'agent': {'population': 2339, 'numerosity': 2503, 'reliable': 218, 'fitness': 304.7705136081669, 'cover_ratio': 0.12665669089354392, 'trial': 6250, 'steps': 1, 'total_steps': 6251}, 'environment': None, 'performance': None}\n",
      "INFO:root:{'agent': {'population': 2338, 'numerosity': 2502, 'reliable': 218, 'fitness': 303.65470142515755, 'cover_ratio': 0.12834535011609413, 'trial': 6275, 'steps': 1, 'total_steps': 6276}, 'environment': None, 'performance': None}\n",
      "INFO:root:{'agent': {'population': 2338, 'numerosity': 2504, 'reliable': 220, 'fitness': 302.4516701533714, 'cover_ratio': 0.12891054625442977, 'trial': 6300, 'steps': 1, 'total_steps': 6301}, 'environment': None, 'performance': None}\n",
      "INFO:root:{'agent': {'population': 2354, 'numerosity': 2520, 'reliable': 220, 'fitness': 301.5749850903221, 'cover_ratio': 0.1295060080106808, 'trial': 6325, 'steps': 1, 'total_steps': 6326}, 'environment': None, 'performance': None}\n",
      "INFO:root:{'agent': {'population': 2368, 'numerosity': 2536, 'reliable': 223, 'fitness': 303.04908464096354, 'cover_ratio': 0.12991674710424697, 'trial': 6350, 'steps': 1, 'total_steps': 6351}, 'environment': None, 'performance': None}\n",
      "INFO:root:{'agent': {'population': 2358, 'numerosity': 2525, 'reliable': 220, 'fitness': 302.7396724260302, 'cover_ratio': 0.13149763722282792, 'trial': 6375, 'steps': 1, 'total_steps': 6376}, 'environment': None, 'performance': None}\n",
      "INFO:root:{'agent': {'population': 2316, 'numerosity': 2481, 'reliable': 220, 'fitness': 306.61853836758957, 'cover_ratio': 0.12641870219590415, 'trial': 6400, 'steps': 1, 'total_steps': 6401}, 'environment': None, 'performance': None}\n",
      "INFO:root:{'agent': {'population': 2335, 'numerosity': 2500, 'reliable': 221, 'fitness': 305.1604762554778, 'cover_ratio': 0.12688895686754345, 'trial': 6425, 'steps': 1, 'total_steps': 6426}, 'environment': None, 'performance': None}\n",
      "INFO:root:{'agent': {'population': 2342, 'numerosity': 2507, 'reliable': 222, 'fitness': 305.0502023422793, 'cover_ratio': 0.12704343052336206, 'trial': 6450, 'steps': 1, 'total_steps': 6451}, 'environment': None, 'performance': None}\n",
      "INFO:root:{'agent': {'population': 2339, 'numerosity': 2505, 'reliable': 225, 'fitness': 304.9501612490736, 'cover_ratio': 0.12714530018933598, 'trial': 6475, 'steps': 1, 'total_steps': 6476}, 'environment': None, 'performance': None}\n",
      "INFO:root:{'agent': {'population': 2354, 'numerosity': 2521, 'reliable': 227, 'fitness': 304.3538833396843, 'cover_ratio': 0.1306894040538899, 'trial': 6500, 'steps': 1, 'total_steps': 6501}, 'environment': None, 'performance': None}\n",
      "INFO:root:{'agent': {'population': 2331, 'numerosity': 2497, 'reliable': 224, 'fitness': 304.8599815841855, 'cover_ratio': 0.1286235214806641, 'trial': 6525, 'steps': 1, 'total_steps': 6526}, 'environment': None, 'performance': None}\n",
      "INFO:root:{'agent': {'population': 2327, 'numerosity': 2490, 'reliable': 223, 'fitness': 304.020402671867, 'cover_ratio': 0.12793910000613884, 'trial': 6550, 'steps': 1, 'total_steps': 6551}, 'environment': None, 'performance': None}\n",
      "INFO:root:{'agent': {'population': 2352, 'numerosity': 2516, 'reliable': 227, 'fitness': 303.7999503409533, 'cover_ratio': 0.131711613216715, 'trial': 6575, 'steps': 1, 'total_steps': 6576}, 'environment': None, 'performance': None}\n",
      "INFO:root:{'agent': {'population': 2367, 'numerosity': 2533, 'reliable': 224, 'fitness': 303.3977726332427, 'cover_ratio': 0.1320689238940186, 'trial': 6600, 'steps': 1, 'total_steps': 6601}, 'environment': None, 'performance': None}\n",
      "INFO:root:{'agent': {'population': 2424, 'numerosity': 2591, 'reliable': 225, 'fitness': 300.9697408366927, 'cover_ratio': 0.13883486562941974, 'trial': 6625, 'steps': 1, 'total_steps': 6626}, 'environment': None, 'performance': None}\n",
      "INFO:root:{'agent': {'population': 2356, 'numerosity': 2518, 'reliable': 224, 'fitness': 301.59598383370087, 'cover_ratio': 0.13123029347562426, 'trial': 6650, 'steps': 1, 'total_steps': 6651}, 'environment': None, 'performance': None}\n",
      "INFO:root:{'agent': {'population': 2362, 'numerosity': 2524, 'reliable': 222, 'fitness': 299.43878003359697, 'cover_ratio': 0.13460142736179959, 'trial': 6675, 'steps': 1, 'total_steps': 6676}, 'environment': None, 'performance': None}\n",
      "INFO:root:{'agent': {'population': 2332, 'numerosity': 2493, 'reliable': 216, 'fitness': 300.68701168166496, 'cover_ratio': 0.13039083557951442, 'trial': 6700, 'steps': 1, 'total_steps': 6701}, 'environment': None, 'performance': None}\n",
      "INFO:root:{'agent': {'population': 2339, 'numerosity': 2502, 'reliable': 216, 'fitness': 301.5425971236643, 'cover_ratio': 0.13135955536554053, 'trial': 6725, 'steps': 1, 'total_steps': 6726}, 'environment': None, 'performance': None}\n",
      "INFO:root:{'agent': {'population': 2326, 'numerosity': 2492, 'reliable': 216, 'fitness': 304.41127917968777, 'cover_ratio': 0.1304815133276007, 'trial': 6750, 'steps': 1, 'total_steps': 6751}, 'environment': None, 'performance': None}\n",
      "INFO:root:{'agent': {'population': 2299, 'numerosity': 2464, 'reliable': 215, 'fitness': 307.18156875026983, 'cover_ratio': 0.12550487789722198, 'trial': 6775, 'steps': 1, 'total_steps': 6776}, 'environment': None, 'performance': None}\n",
      "INFO:root:{'agent': {'population': 2275, 'numerosity': 2442, 'reliable': 213, 'fitness': 307.5306012165568, 'cover_ratio': 0.12304552590266839, 'trial': 6800, 'steps': 1, 'total_steps': 6801}, 'environment': None, 'performance': None}\n",
      "INFO:root:{'agent': {'population': 2299, 'numerosity': 2466, 'reliable': 213, 'fitness': 305.81895426707007, 'cover_ratio': 0.12440191387559767, 'trial': 6825, 'steps': 1, 'total_steps': 6826}, 'environment': None, 'performance': None}\n",
      "INFO:root:{'agent': {'population': 2277, 'numerosity': 2448, 'reliable': 208, 'fitness': 306.43598219786804, 'cover_ratio': 0.1223414266892524, 'trial': 6850, 'steps': 1, 'total_steps': 6851}, 'environment': None, 'performance': None}\n",
      "INFO:root:{'agent': {'population': 2280, 'numerosity': 2453, 'reliable': 208, 'fitness': 304.0223937946556, 'cover_ratio': 0.12250939849624017, 'trial': 6875, 'steps': 1, 'total_steps': 6876}, 'environment': None, 'performance': None}\n",
      "INFO:root:{'agent': {'population': 2285, 'numerosity': 2456, 'reliable': 208, 'fitness': 304.2753501293591, 'cover_ratio': 0.12231947483588582, 'trial': 6900, 'steps': 1, 'total_steps': 6901}, 'environment': None, 'performance': None}\n",
      "INFO:root:{'agent': {'population': 2277, 'numerosity': 2449, 'reliable': 207, 'fitness': 304.10125301535476, 'cover_ratio': 0.12110232762406647, 'trial': 6925, 'steps': 1, 'total_steps': 6926}, 'environment': None, 'performance': None}\n",
      "INFO:root:{'agent': {'population': 2273, 'numerosity': 2444, 'reliable': 203, 'fitness': 303.97112654286485, 'cover_ratio': 0.12156684055056215, 'trial': 6950, 'steps': 1, 'total_steps': 6951}, 'environment': None, 'performance': None}\n",
      "INFO:root:{'agent': {'population': 2316, 'numerosity': 2485, 'reliable': 202, 'fitness': 300.50906615716934, 'cover_ratio': 0.1285159141376755, 'trial': 6975, 'steps': 1, 'total_steps': 6976}, 'environment': None, 'performance': None}\n",
      "INFO:root:{'agent': {'population': 2348, 'numerosity': 2518, 'reliable': 204, 'fitness': 300.28807496988424, 'cover_ratio': 0.13290946702360648, 'trial': 7000, 'steps': 1, 'total_steps': 7001}, 'environment': None, 'performance': None}\n",
      "INFO:root:{'agent': {'population': 2343, 'numerosity': 2515, 'reliable': 206, 'fitness': 299.8866530860341, 'cover_ratio': 0.13185171635875836, 'trial': 7025, 'steps': 1, 'total_steps': 7026}, 'environment': None, 'performance': None}\n"
     ]
    },
    {
     "name": "stderr",
     "output_type": "stream",
     "text": [
      "INFO:root:{'agent': {'population': 2351, 'numerosity': 2527, 'reliable': 207, 'fitness': 300.34936315039647, 'cover_ratio': 0.13246642765996205, 'trial': 7050, 'steps': 1, 'total_steps': 7051}, 'environment': None, 'performance': None}\n",
      "INFO:root:{'agent': {'population': 2340, 'numerosity': 2517, 'reliable': 207, 'fitness': 303.1147829706918, 'cover_ratio': 0.12983821733821704, 'trial': 7075, 'steps': 1, 'total_steps': 7076}, 'environment': None, 'performance': None}\n",
      "INFO:root:{'agent': {'population': 2290, 'numerosity': 2472, 'reliable': 206, 'fitness': 304.9898821893962, 'cover_ratio': 0.12593574547722974, 'trial': 7100, 'steps': 1, 'total_steps': 7101}, 'environment': None, 'performance': None}\n",
      "INFO:root:{'agent': {'population': 2298, 'numerosity': 2481, 'reliable': 205, 'fitness': 303.0508522012644, 'cover_ratio': 0.12863670272286423, 'trial': 7125, 'steps': 1, 'total_steps': 7126}, 'environment': None, 'performance': None}\n",
      "INFO:root:{'agent': {'population': 2293, 'numerosity': 2480, 'reliable': 205, 'fitness': 301.5251782785622, 'cover_ratio': 0.12935331132016664, 'trial': 7150, 'steps': 1, 'total_steps': 7151}, 'environment': None, 'performance': None}\n",
      "INFO:root:{'agent': {'population': 2269, 'numerosity': 2456, 'reliable': 201, 'fitness': 301.83627291022106, 'cover_ratio': 0.12980860039035416, 'trial': 7175, 'steps': 1, 'total_steps': 7176}, 'environment': None, 'performance': None}\n",
      "INFO:root:{'agent': {'population': 2218, 'numerosity': 2405, 'reliable': 197, 'fitness': 300.8990559293085, 'cover_ratio': 0.12690003864485347, 'trial': 7200, 'steps': 1, 'total_steps': 7201}, 'environment': None, 'performance': None}\n",
      "INFO:root:{'agent': {'population': 2192, 'numerosity': 2381, 'reliable': 195, 'fitness': 303.17445761790435, 'cover_ratio': 0.12566801355578708, 'trial': 7225, 'steps': 1, 'total_steps': 7226}, 'environment': None, 'performance': None}\n",
      "INFO:root:{'agent': {'population': 2184, 'numerosity': 2370, 'reliable': 191, 'fitness': 302.6788471293603, 'cover_ratio': 0.1247220041862896, 'trial': 7250, 'steps': 1, 'total_steps': 7251}, 'environment': None, 'performance': None}\n",
      "INFO:root:{'agent': {'population': 2183, 'numerosity': 2362, 'reliable': 189, 'fitness': 303.7894928963576, 'cover_ratio': 0.12582618938551124, 'trial': 7275, 'steps': 1, 'total_steps': 7276}, 'environment': None, 'performance': None}\n",
      "INFO:root:{'agent': {'population': 2202, 'numerosity': 2381, 'reliable': 189, 'fitness': 302.18553981695914, 'cover_ratio': 0.13044959128065386, 'trial': 7300, 'steps': 1, 'total_steps': 7301}, 'environment': None, 'performance': None}\n",
      "INFO:root:{'agent': {'population': 2185, 'numerosity': 2364, 'reliable': 188, 'fitness': 303.4647469519995, 'cover_ratio': 0.12830990519777694, 'trial': 7325, 'steps': 1, 'total_steps': 7326}, 'environment': None, 'performance': None}\n",
      "INFO:root:{'agent': {'population': 2190, 'numerosity': 2373, 'reliable': 190, 'fitness': 304.0179646244528, 'cover_ratio': 0.12824527071102398, 'trial': 7350, 'steps': 1, 'total_steps': 7351}, 'environment': None, 'performance': None}\n",
      "INFO:root:{'agent': {'population': 2167, 'numerosity': 2353, 'reliable': 190, 'fitness': 302.6334803136307, 'cover_ratio': 0.12840332256575893, 'trial': 7375, 'steps': 1, 'total_steps': 7376}, 'environment': None, 'performance': None}\n",
      "INFO:root:{'agent': {'population': 2191, 'numerosity': 2379, 'reliable': 191, 'fitness': 301.58616989460296, 'cover_ratio': 0.13537523635652332, 'trial': 7400, 'steps': 1, 'total_steps': 7401}, 'environment': None, 'performance': None}\n",
      "INFO:root:{'agent': {'population': 2257, 'numerosity': 2445, 'reliable': 193, 'fitness': 301.6898002011557, 'cover_ratio': 0.1433160326602948, 'trial': 7425, 'steps': 1, 'total_steps': 7426}, 'environment': None, 'performance': None}\n",
      "INFO:root:{'agent': {'population': 2337, 'numerosity': 2527, 'reliable': 193, 'fitness': 301.3766792390653, 'cover_ratio': 0.14927562809462666, 'trial': 7450, 'steps': 1, 'total_steps': 7451}, 'environment': None, 'performance': None}\n",
      "INFO:root:{'agent': {'population': 2329, 'numerosity': 2518, 'reliable': 191, 'fitness': 302.0317621581224, 'cover_ratio': 0.1477795497761147, 'trial': 7475, 'steps': 1, 'total_steps': 7476}, 'environment': None, 'performance': None}\n",
      "INFO:root:{'agent': {'population': 2290, 'numerosity': 2480, 'reliable': 192, 'fitness': 303.8207900900408, 'cover_ratio': 0.14416718652526492, 'trial': 7500, 'steps': 1, 'total_steps': 7501}, 'environment': None, 'performance': None}\n",
      "INFO:root:{'agent': {'population': 2180, 'numerosity': 2370, 'reliable': 191, 'fitness': 302.41731394383254, 'cover_ratio': 0.1305045871559631, 'trial': 7525, 'steps': 1, 'total_steps': 7526}, 'environment': None, 'performance': None}\n",
      "INFO:root:{'agent': {'population': 2217, 'numerosity': 2405, 'reliable': 188, 'fitness': 301.959897173917, 'cover_ratio': 0.13166118950963315, 'trial': 7550, 'steps': 1, 'total_steps': 7551}, 'environment': None, 'performance': None}\n",
      "INFO:root:{'agent': {'population': 2206, 'numerosity': 2391, 'reliable': 186, 'fitness': 302.9622129366699, 'cover_ratio': 0.130423520269395, 'trial': 7575, 'steps': 1, 'total_steps': 7576}, 'environment': None, 'performance': None}\n",
      "INFO:root:{'agent': {'population': 2209, 'numerosity': 2400, 'reliable': 190, 'fitness': 303.85872014849116, 'cover_ratio': 0.1313296255577829, 'trial': 7600, 'steps': 1, 'total_steps': 7601}, 'environment': None, 'performance': None}\n",
      "INFO:root:{'agent': {'population': 2184, 'numerosity': 2378, 'reliable': 188, 'fitness': 305.19081264588254, 'cover_ratio': 0.12809065934065922, 'trial': 7625, 'steps': 1, 'total_steps': 7626}, 'environment': None, 'performance': None}\n",
      "INFO:root:{'agent': {'population': 2158, 'numerosity': 2350, 'reliable': 188, 'fitness': 307.3988549432938, 'cover_ratio': 0.12346087647292463, 'trial': 7650, 'steps': 1, 'total_steps': 7651}, 'environment': None, 'performance': None}\n",
      "INFO:root:{'agent': {'population': 2126, 'numerosity': 2316, 'reliable': 182, 'fitness': 309.9404677374152, 'cover_ratio': 0.12090108856336511, 'trial': 7675, 'steps': 1, 'total_steps': 7676}, 'environment': None, 'performance': None}\n",
      "INFO:root:{'agent': {'population': 2137, 'numerosity': 2329, 'reliable': 181, 'fitness': 309.4069441409021, 'cover_ratio': 0.12071328297346075, 'trial': 7700, 'steps': 1, 'total_steps': 7701}, 'environment': None, 'performance': None}\n",
      "INFO:root:{'agent': {'population': 2154, 'numerosity': 2347, 'reliable': 182, 'fitness': 308.76893747886356, 'cover_ratio': 0.12254609364637209, 'trial': 7725, 'steps': 1, 'total_steps': 7726}, 'environment': None, 'performance': None}\n",
      "INFO:root:{'agent': {'population': 2165, 'numerosity': 2352, 'reliable': 183, 'fitness': 310.1166537129497, 'cover_ratio': 0.12495875948531837, 'trial': 7750, 'steps': 1, 'total_steps': 7751}, 'environment': None, 'performance': None}\n",
      "INFO:root:{'agent': {'population': 2171, 'numerosity': 2358, 'reliable': 181, 'fitness': 310.42791027919833, 'cover_ratio': 0.1247614660788313, 'trial': 7775, 'steps': 1, 'total_steps': 7776}, 'environment': None, 'performance': None}\n",
      "INFO:root:{'agent': {'population': 2150, 'numerosity': 2335, 'reliable': 180, 'fitness': 312.2947451828808, 'cover_ratio': 0.12182724252491697, 'trial': 7800, 'steps': 1, 'total_steps': 7801}, 'environment': None, 'performance': None}\n",
      "INFO:root:{'agent': {'population': 2130, 'numerosity': 2317, 'reliable': 181, 'fitness': 312.2926561290637, 'cover_ratio': 0.12102615694164992, 'trial': 7825, 'steps': 1, 'total_steps': 7826}, 'environment': None, 'performance': None}\n",
      "INFO:root:{'agent': {'population': 2090, 'numerosity': 2274, 'reliable': 181, 'fitness': 314.40893526016913, 'cover_ratio': 0.1176691729323309, 'trial': 7850, 'steps': 1, 'total_steps': 7851}, 'environment': None, 'performance': None}\n",
      "INFO:root:{'agent': {'population': 2099, 'numerosity': 2280, 'reliable': 180, 'fitness': 315.3823039452526, 'cover_ratio': 0.11631389096848845, 'trial': 7875, 'steps': 1, 'total_steps': 7876}, 'environment': None, 'performance': None}\n",
      "INFO:root:{'agent': {'population': 2095, 'numerosity': 2273, 'reliable': 181, 'fitness': 316.24066223098544, 'cover_ratio': 0.11668939652233211, 'trial': 7900, 'steps': 1, 'total_steps': 7901}, 'environment': None, 'performance': None}\n"
     ]
    },
    {
     "name": "stderr",
     "output_type": "stream",
     "text": [
      "INFO:root:{'agent': {'population': 2119, 'numerosity': 2298, 'reliable': 180, 'fitness': 313.6122160370556, 'cover_ratio': 0.11894087507584444, 'trial': 7925, 'steps': 1, 'total_steps': 7926}, 'environment': None, 'performance': None}\n",
      "INFO:root:{'agent': {'population': 2193, 'numerosity': 2373, 'reliable': 181, 'fitness': 307.78245665085143, 'cover_ratio': 0.1337697869845613, 'trial': 7950, 'steps': 1, 'total_steps': 7951}, 'environment': None, 'performance': None}\n",
      "INFO:root:{'agent': {'population': 2152, 'numerosity': 2331, 'reliable': 179, 'fitness': 308.3958041025613, 'cover_ratio': 0.12909917684545938, 'trial': 7975, 'steps': 1, 'total_steps': 7976}, 'environment': None, 'performance': None}\n",
      "INFO:root:{'agent': {'population': 2142, 'numerosity': 2320, 'reliable': 179, 'fitness': 309.9857978744307, 'cover_ratio': 0.12733426704014938, 'trial': 8000, 'steps': 1, 'total_steps': 8001}, 'environment': None, 'performance': None}\n",
      "INFO:root:{'agent': {'population': 2093, 'numerosity': 2264, 'reliable': 174, 'fitness': 311.00351673049477, 'cover_ratio': 0.12127158555729997, 'trial': 8025, 'steps': 1, 'total_steps': 8026}, 'environment': None, 'performance': None}\n",
      "INFO:root:{'agent': {'population': 2090, 'numerosity': 2260, 'reliable': 175, 'fitness': 309.7159703807646, 'cover_ratio': 0.12130895420369121, 'trial': 8050, 'steps': 1, 'total_steps': 8051}, 'environment': None, 'performance': None}\n",
      "INFO:root:{'agent': {'population': 2108, 'numerosity': 2280, 'reliable': 177, 'fitness': 308.4396270895811, 'cover_ratio': 0.1228991596638657, 'trial': 8075, 'steps': 1, 'total_steps': 8076}, 'environment': None, 'performance': None}\n",
      "INFO:root:{'agent': {'population': 2146, 'numerosity': 2319, 'reliable': 174, 'fitness': 307.6194968311334, 'cover_ratio': 0.12789575289575303, 'trial': 8100, 'steps': 1, 'total_steps': 8101}, 'environment': None, 'performance': None}\n",
      "INFO:root:{'agent': {'population': 2127, 'numerosity': 2302, 'reliable': 173, 'fitness': 308.7471050577605, 'cover_ratio': 0.12514272281550154, 'trial': 8125, 'steps': 1, 'total_steps': 8126}, 'environment': None, 'performance': None}\n",
      "INFO:root:{'agent': {'population': 2127, 'numerosity': 2299, 'reliable': 174, 'fitness': 310.7192855825212, 'cover_ratio': 0.12504197729867708, 'trial': 8150, 'steps': 1, 'total_steps': 8151}, 'environment': None, 'performance': None}\n",
      "INFO:root:{'agent': {'population': 2103, 'numerosity': 2273, 'reliable': 172, 'fitness': 307.69039145977035, 'cover_ratio': 0.12359894028938279, 'trial': 8175, 'steps': 1, 'total_steps': 8176}, 'environment': None, 'performance': None}\n",
      "INFO:root:{'agent': {'population': 2118, 'numerosity': 2285, 'reliable': 172, 'fitness': 304.58706450514643, 'cover_ratio': 0.12604546067718894, 'trial': 8200, 'steps': 1, 'total_steps': 8201}, 'environment': None, 'performance': None}\n",
      "INFO:root:{'agent': {'population': 2144, 'numerosity': 2311, 'reliable': 172, 'fitness': 304.93632642015257, 'cover_ratio': 0.12956423240938206, 'trial': 8225, 'steps': 1, 'total_steps': 8226}, 'environment': None, 'performance': None}\n",
      "INFO:root:{'agent': {'population': 2143, 'numerosity': 2311, 'reliable': 168, 'fitness': 303.0876753938478, 'cover_ratio': 0.133324445036998, 'trial': 8250, 'steps': 1, 'total_steps': 8251}, 'environment': None, 'performance': None}\n",
      "INFO:root:{'agent': {'population': 2111, 'numerosity': 2280, 'reliable': 169, 'fitness': 305.3559487273833, 'cover_ratio': 0.13054070514989546, 'trial': 8275, 'steps': 1, 'total_steps': 8276}, 'environment': None, 'performance': None}\n",
      "INFO:root:{'agent': {'population': 2110, 'numerosity': 2273, 'reliable': 169, 'fitness': 303.32676858551764, 'cover_ratio': 0.12953622207176727, 'trial': 8300, 'steps': 1, 'total_steps': 8301}, 'environment': None, 'performance': None}\n",
      "INFO:root:{'agent': {'population': 2143, 'numerosity': 2306, 'reliable': 169, 'fitness': 301.5405497097521, 'cover_ratio': 0.13444103726418255, 'trial': 8325, 'steps': 1, 'total_steps': 8326}, 'environment': None, 'performance': None}\n",
      "INFO:root:{'agent': {'population': 2104, 'numerosity': 2269, 'reliable': 167, 'fitness': 302.26664938343566, 'cover_ratio': 0.12970192829983726, 'trial': 8350, 'steps': 1, 'total_steps': 8351}, 'environment': None, 'performance': None}\n",
      "INFO:root:{'agent': {'population': 2109, 'numerosity': 2271, 'reliable': 165, 'fitness': 301.9609708513997, 'cover_ratio': 0.1285307864255236, 'trial': 8375, 'steps': 1, 'total_steps': 8376}, 'environment': None, 'performance': None}\n",
      "INFO:root:{'agent': {'population': 2116, 'numerosity': 2276, 'reliable': 166, 'fitness': 300.7387054475674, 'cover_ratio': 0.12797056440723759, 'trial': 8400, 'steps': 1, 'total_steps': 8401}, 'environment': None, 'performance': None}\n",
      "INFO:root:{'agent': {'population': 2151, 'numerosity': 2307, 'reliable': 169, 'fitness': 297.24590552111454, 'cover_ratio': 0.1313010559872487, 'trial': 8425, 'steps': 1, 'total_steps': 8426}, 'environment': None, 'performance': None}\n",
      "INFO:root:{'agent': {'population': 2090, 'numerosity': 2244, 'reliable': 169, 'fitness': 302.06936130591066, 'cover_ratio': 0.12578605604921417, 'trial': 8450, 'steps': 1, 'total_steps': 8451}, 'environment': None, 'performance': None}\n",
      "INFO:root:{'agent': {'population': 2093, 'numerosity': 2248, 'reliable': 172, 'fitness': 301.71874108596626, 'cover_ratio': 0.12871135076104046, 'trial': 8475, 'steps': 1, 'total_steps': 8476}, 'environment': None, 'performance': None}\n",
      "INFO:root:{'agent': {'population': 2079, 'numerosity': 2234, 'reliable': 172, 'fitness': 303.6923402044733, 'cover_ratio': 0.1297155225726656, 'trial': 8500, 'steps': 1, 'total_steps': 8501}, 'environment': None, 'performance': None}\n",
      "INFO:root:{'agent': {'population': 2069, 'numerosity': 2224, 'reliable': 171, 'fitness': 303.6934812368736, 'cover_ratio': 0.12849547745632833, 'trial': 8525, 'steps': 1, 'total_steps': 8526}, 'environment': None, 'performance': None}\n",
      "INFO:root:{'agent': {'population': 2082, 'numerosity': 2238, 'reliable': 172, 'fitness': 303.5413794626149, 'cover_ratio': 0.1320330725950325, 'trial': 8550, 'steps': 1, 'total_steps': 8551}, 'environment': None, 'performance': None}\n",
      "INFO:root:{'agent': {'population': 2064, 'numerosity': 2220, 'reliable': 172, 'fitness': 305.72864595304543, 'cover_ratio': 0.12818383167220382, 'trial': 8575, 'steps': 1, 'total_steps': 8576}, 'environment': None, 'performance': None}\n",
      "INFO:root:{'agent': {'population': 2083, 'numerosity': 2241, 'reliable': 172, 'fitness': 305.7624184292548, 'cover_ratio': 0.13112955215691657, 'trial': 8600, 'steps': 1, 'total_steps': 8601}, 'environment': None, 'performance': None}\n",
      "INFO:root:{'agent': {'population': 2069, 'numerosity': 2228, 'reliable': 173, 'fitness': 306.1834609213298, 'cover_ratio': 0.12996271490713274, 'trial': 8625, 'steps': 1, 'total_steps': 8626}, 'environment': None, 'performance': None}\n",
      "INFO:root:{'agent': {'population': 2111, 'numerosity': 2272, 'reliable': 173, 'fitness': 307.73584726443215, 'cover_ratio': 0.12967787778304143, 'trial': 8650, 'steps': 1, 'total_steps': 8651}, 'environment': None, 'performance': None}\n",
      "INFO:root:{'agent': {'population': 2099, 'numerosity': 2260, 'reliable': 171, 'fitness': 305.57855406021724, 'cover_ratio': 0.12822432450826943, 'trial': 8675, 'steps': 1, 'total_steps': 8676}, 'environment': None, 'performance': None}\n",
      "INFO:root:{'agent': {'population': 2099, 'numerosity': 2260, 'reliable': 171, 'fitness': 305.0613746459408, 'cover_ratio': 0.1299258150139523, 'trial': 8700, 'steps': 1, 'total_steps': 8701}, 'environment': None, 'performance': None}\n",
      "INFO:root:{'agent': {'population': 2094, 'numerosity': 2255, 'reliable': 172, 'fitness': 306.5113098083437, 'cover_ratio': 0.13289671169327336, 'trial': 8725, 'steps': 1, 'total_steps': 8726}, 'environment': None, 'performance': None}\n",
      "INFO:root:{'agent': {'population': 2055, 'numerosity': 2217, 'reliable': 173, 'fitness': 308.0858363678493, 'cover_ratio': 0.13032672923183877, 'trial': 8750, 'steps': 1, 'total_steps': 8751}, 'environment': None, 'performance': None}\n",
      "INFO:root:{'agent': {'population': 2050, 'numerosity': 2215, 'reliable': 174, 'fitness': 310.03338134569105, 'cover_ratio': 0.13231707317073182, 'trial': 8775, 'steps': 1, 'total_steps': 8776}, 'environment': None, 'performance': None}\n"
     ]
    },
    {
     "name": "stderr",
     "output_type": "stream",
     "text": [
      "INFO:root:{'agent': {'population': 2006, 'numerosity': 2172, 'reliable': 171, 'fitness': 310.0322448408058, 'cover_ratio': 0.12585457911978362, 'trial': 8800, 'steps': 1, 'total_steps': 8801}, 'environment': None, 'performance': None}\n",
      "INFO:root:{'agent': {'population': 2006, 'numerosity': 2171, 'reliable': 171, 'fitness': 312.2106492175548, 'cover_ratio': 0.12535607463324322, 'trial': 8825, 'steps': 1, 'total_steps': 8826}, 'environment': None, 'performance': None}\n",
      "INFO:root:{'agent': {'population': 2007, 'numerosity': 2172, 'reliable': 171, 'fitness': 313.8672739747168, 'cover_ratio': 0.12493771798704544, 'trial': 8850, 'steps': 1, 'total_steps': 8851}, 'environment': None, 'performance': None}\n",
      "INFO:root:{'agent': {'population': 2002, 'numerosity': 2171, 'reliable': 171, 'fitness': 314.68177174405963, 'cover_ratio': 0.12585628657057235, 'trial': 8875, 'steps': 1, 'total_steps': 8876}, 'environment': None, 'performance': None}\n",
      "INFO:root:{'agent': {'population': 1970, 'numerosity': 2140, 'reliable': 169, 'fitness': 312.60965621938016, 'cover_ratio': 0.12298767222625101, 'trial': 8900, 'steps': 1, 'total_steps': 8901}, 'environment': None, 'performance': None}\n",
      "INFO:root:{'agent': {'population': 1970, 'numerosity': 2143, 'reliable': 168, 'fitness': 313.6076192117061, 'cover_ratio': 0.12296954314720825, 'trial': 8925, 'steps': 1, 'total_steps': 8926}, 'environment': None, 'performance': None}\n",
      "INFO:root:{'agent': {'population': 1962, 'numerosity': 2132, 'reliable': 168, 'fitness': 313.38467651316205, 'cover_ratio': 0.12361657201106759, 'trial': 8950, 'steps': 1, 'total_steps': 8951}, 'environment': None, 'performance': None}\n",
      "INFO:root:{'agent': {'population': 1972, 'numerosity': 2142, 'reliable': 168, 'fitness': 314.2505070717053, 'cover_ratio': 0.12510866415531746, 'trial': 8975, 'steps': 1, 'total_steps': 8976}, 'environment': None, 'performance': None}\n",
      "INFO:root:{'agent': {'population': 1948, 'numerosity': 2120, 'reliable': 164, 'fitness': 315.06307643641054, 'cover_ratio': 0.1210215605749488, 'trial': 9000, 'steps': 1, 'total_steps': 9001}, 'environment': None, 'performance': None}\n",
      "INFO:root:{'agent': {'population': 1948, 'numerosity': 2118, 'reliable': 164, 'fitness': 315.0163011694789, 'cover_ratio': 0.12265327075388689, 'trial': 9025, 'steps': 1, 'total_steps': 9026}, 'environment': None, 'performance': None}\n",
      "INFO:root:{'agent': {'population': 1945, 'numerosity': 2116, 'reliable': 163, 'fitness': 314.252603713862, 'cover_ratio': 0.1219427102460523, 'trial': 9050, 'steps': 1, 'total_steps': 9051}, 'environment': None, 'performance': None}\n",
      "INFO:root:{'agent': {'population': 1967, 'numerosity': 2139, 'reliable': 162, 'fitness': 314.0153178422253, 'cover_ratio': 0.12444621976904653, 'trial': 9075, 'steps': 1, 'total_steps': 9076}, 'environment': None, 'performance': None}\n",
      "INFO:root:{'agent': {'population': 1958, 'numerosity': 2129, 'reliable': 161, 'fitness': 315.18534021675396, 'cover_ratio': 0.12344958412374157, 'trial': 9100, 'steps': 1, 'total_steps': 9101}, 'environment': None, 'performance': None}\n",
      "INFO:root:{'agent': {'population': 1950, 'numerosity': 2121, 'reliable': 161, 'fitness': 316.8422885940041, 'cover_ratio': 0.12267399267399283, 'trial': 9125, 'steps': 1, 'total_steps': 9126}, 'environment': None, 'performance': None}\n",
      "INFO:root:{'agent': {'population': 1957, 'numerosity': 2127, 'reliable': 164, 'fitness': 317.5978096441662, 'cover_ratio': 0.12325717205635466, 'trial': 9150, 'steps': 1, 'total_steps': 9151}, 'environment': None, 'performance': None}\n",
      "INFO:root:{'agent': {'population': 1988, 'numerosity': 2157, 'reliable': 165, 'fitness': 317.2520343752095, 'cover_ratio': 0.12437122736418528, 'trial': 9175, 'steps': 1, 'total_steps': 9176}, 'environment': None, 'performance': None}\n",
      "INFO:root:{'agent': {'population': 1990, 'numerosity': 2161, 'reliable': 166, 'fitness': 315.68329099955184, 'cover_ratio': 0.12320531227566424, 'trial': 9200, 'steps': 1, 'total_steps': 9201}, 'environment': None, 'performance': None}\n",
      "INFO:root:{'agent': {'population': 1964, 'numerosity': 2130, 'reliable': 165, 'fitness': 314.9113325117542, 'cover_ratio': 0.12070846668606362, 'trial': 9225, 'steps': 1, 'total_steps': 9226}, 'environment': None, 'performance': None}\n",
      "INFO:root:{'agent': {'population': 1970, 'numerosity': 2136, 'reliable': 166, 'fitness': 318.464019460013, 'cover_ratio': 0.1191080493110952, 'trial': 9250, 'steps': 1, 'total_steps': 9251}, 'environment': None, 'performance': None}\n",
      "INFO:root:{'agent': {'population': 1986, 'numerosity': 2152, 'reliable': 165, 'fitness': 317.89337378766623, 'cover_ratio': 0.12084592145015124, 'trial': 9275, 'steps': 1, 'total_steps': 9276}, 'environment': None, 'performance': None}\n",
      "INFO:root:{'agent': {'population': 1988, 'numerosity': 2156, 'reliable': 165, 'fitness': 314.99690970990235, 'cover_ratio': 0.12072434607645895, 'trial': 9300, 'steps': 1, 'total_steps': 9301}, 'environment': None, 'performance': None}\n",
      "INFO:root:{'agent': {'population': 1992, 'numerosity': 2162, 'reliable': 165, 'fitness': 317.07075184432847, 'cover_ratio': 0.12261546184738972, 'trial': 9325, 'steps': 1, 'total_steps': 9326}, 'environment': None, 'performance': None}\n",
      "INFO:root:{'agent': {'population': 2007, 'numerosity': 2172, 'reliable': 163, 'fitness': 316.6718421358808, 'cover_ratio': 0.1233361805110686, 'trial': 9350, 'steps': 1, 'total_steps': 9351}, 'environment': None, 'performance': None}\n",
      "INFO:root:{'agent': {'population': 1989, 'numerosity': 2152, 'reliable': 163, 'fitness': 318.2848597510942, 'cover_ratio': 0.1210945916828272, 'trial': 9375, 'steps': 1, 'total_steps': 9376}, 'environment': None, 'performance': None}\n",
      "INFO:root:{'agent': {'population': 1982, 'numerosity': 2145, 'reliable': 162, 'fitness': 318.4809721381816, 'cover_ratio': 0.12094565374081039, 'trial': 9400, 'steps': 1, 'total_steps': 9401}, 'environment': None, 'performance': None}\n",
      "INFO:root:{'agent': {'population': 1983, 'numerosity': 2149, 'reliable': 163, 'fitness': 317.36920029662434, 'cover_ratio': 0.11980404869966167, 'trial': 9425, 'steps': 1, 'total_steps': 9426}, 'environment': None, 'performance': None}\n",
      "INFO:root:{'agent': {'population': 1974, 'numerosity': 2139, 'reliable': 157, 'fitness': 317.4916594116474, 'cover_ratio': 0.11906571139093958, 'trial': 9450, 'steps': 1, 'total_steps': 9451}, 'environment': None, 'performance': None}\n",
      "INFO:root:{'agent': {'population': 2000, 'numerosity': 2165, 'reliable': 157, 'fitness': 316.4999862722924, 'cover_ratio': 0.12267857142857165, 'trial': 9475, 'steps': 1, 'total_steps': 9476}, 'environment': None, 'performance': None}\n",
      "INFO:root:{'agent': {'population': 1999, 'numerosity': 2164, 'reliable': 157, 'fitness': 314.5176504735803, 'cover_ratio': 0.12193596798399219, 'trial': 9500, 'steps': 1, 'total_steps': 9501}, 'environment': None, 'performance': None}\n",
      "INFO:root:{'agent': {'population': 2044, 'numerosity': 2212, 'reliable': 157, 'fitness': 311.991574578509, 'cover_ratio': 0.12882653061224508, 'trial': 9525, 'steps': 1, 'total_steps': 9526}, 'environment': None, 'performance': None}\n",
      "INFO:root:{'agent': {'population': 2034, 'numerosity': 2201, 'reliable': 157, 'fitness': 310.9793855525152, 'cover_ratio': 0.12742309313105793, 'trial': 9550, 'steps': 1, 'total_steps': 9551}, 'environment': None, 'performance': None}\n",
      "INFO:root:{'agent': {'population': 2078, 'numerosity': 2245, 'reliable': 159, 'fitness': 308.5409936170213, 'cover_ratio': 0.12991544067097502, 'trial': 9575, 'steps': 1, 'total_steps': 9576}, 'environment': None, 'performance': None}\n",
      "INFO:root:{'agent': {'population': 2062, 'numerosity': 2229, 'reliable': 159, 'fitness': 308.71333647585294, 'cover_ratio': 0.12867188582513536, 'trial': 9600, 'steps': 1, 'total_steps': 9601}, 'environment': None, 'performance': None}\n",
      "INFO:root:{'agent': {'population': 2038, 'numerosity': 2206, 'reliable': 161, 'fitness': 310.7557180697434, 'cover_ratio': 0.12762862750595846, 'trial': 9625, 'steps': 1, 'total_steps': 9626}, 'environment': None, 'performance': None}\n",
      "INFO:root:{'agent': {'population': 2013, 'numerosity': 2181, 'reliable': 161, 'fitness': 313.737022948534, 'cover_ratio': 0.12516854729969504, 'trial': 9650, 'steps': 1, 'total_steps': 9651}, 'environment': None, 'performance': None}\n"
     ]
    },
    {
     "name": "stderr",
     "output_type": "stream",
     "text": [
      "INFO:root:{'agent': {'population': 2009, 'numerosity': 2175, 'reliable': 162, 'fitness': 313.9782712536507, 'cover_ratio': 0.12433335703619443, 'trial': 9675, 'steps': 1, 'total_steps': 9676}, 'environment': None, 'performance': None}\n",
      "INFO:root:{'agent': {'population': 2005, 'numerosity': 2174, 'reliable': 162, 'fitness': 317.2003202425607, 'cover_ratio': 0.12205201282508026, 'trial': 9700, 'steps': 1, 'total_steps': 9701}, 'environment': None, 'performance': None}\n",
      "INFO:root:{'agent': {'population': 2015, 'numerosity': 2182, 'reliable': 162, 'fitness': 315.6698473062448, 'cover_ratio': 0.12286423254165198, 'trial': 9725, 'steps': 1, 'total_steps': 9726}, 'environment': None, 'performance': None}\n",
      "INFO:root:{'agent': {'population': 1999, 'numerosity': 2167, 'reliable': 161, 'fitness': 317.6168131948543, 'cover_ratio': 0.12147145001071974, 'trial': 9750, 'steps': 1, 'total_steps': 9751}, 'environment': None, 'performance': None}\n",
      "INFO:root:{'agent': {'population': 2043, 'numerosity': 2211, 'reliable': 162, 'fitness': 314.47054297692983, 'cover_ratio': 0.12950143346619128, 'trial': 9775, 'steps': 1, 'total_steps': 9776}, 'environment': None, 'performance': None}\n",
      "INFO:root:{'agent': {'population': 2144, 'numerosity': 2312, 'reliable': 162, 'fitness': 312.61927071436924, 'cover_ratio': 0.1465718283582091, 'trial': 9800, 'steps': 1, 'total_steps': 9801}, 'environment': None, 'performance': None}\n",
      "INFO:root:{'agent': {'population': 2138, 'numerosity': 2305, 'reliable': 166, 'fitness': 318.01150202809237, 'cover_ratio': 0.14274021114526278, 'trial': 9825, 'steps': 1, 'total_steps': 9826}, 'environment': None, 'performance': None}\n",
      "INFO:root:{'agent': {'population': 2129, 'numerosity': 2297, 'reliable': 168, 'fitness': 318.59828159585356, 'cover_ratio': 0.1418674092464606, 'trial': 9850, 'steps': 1, 'total_steps': 9851}, 'environment': None, 'performance': None}\n",
      "INFO:root:{'agent': {'population': 2104, 'numerosity': 2271, 'reliable': 169, 'fitness': 316.8067579037872, 'cover_ratio': 0.13846075502444322, 'trial': 9875, 'steps': 1, 'total_steps': 9876}, 'environment': None, 'performance': None}\n",
      "INFO:root:{'agent': {'population': 2071, 'numerosity': 2240, 'reliable': 169, 'fitness': 320.2484052041386, 'cover_ratio': 0.13145823273780793, 'trial': 9900, 'steps': 1, 'total_steps': 9901}, 'environment': None, 'performance': None}\n",
      "INFO:root:{'agent': {'population': 1990, 'numerosity': 2159, 'reliable': 169, 'fitness': 322.8419329942625, 'cover_ratio': 0.12302584350323045, 'trial': 9925, 'steps': 1, 'total_steps': 9926}, 'environment': None, 'performance': None}\n",
      "INFO:root:{'agent': {'population': 2001, 'numerosity': 2169, 'reliable': 171, 'fitness': 321.0755161675193, 'cover_ratio': 0.1245270222031841, 'trial': 9950, 'steps': 1, 'total_steps': 9951}, 'environment': None, 'performance': None}\n",
      "INFO:root:{'agent': {'population': 1967, 'numerosity': 2136, 'reliable': 170, 'fitness': 321.64235716790984, 'cover_ratio': 0.11934417895271981, 'trial': 9975, 'steps': 1, 'total_steps': 9976}, 'environment': None, 'performance': None}\n"
     ]
    },
    {
     "name": "stdout",
     "output_type": "stream",
     "text": [
      "CPU times: user 17min 25s, sys: 5.17 s, total: 17min 30s\n",
      "Wall time: 17min 49s\n"
     ]
    }
   ],
   "source": [
    "%%time\n",
    "\n",
    "EXPLORE_TRIALS = 10_000\n",
    "population, metrics = agent.explore(rmpx, EXPLORE_TRIALS)"
   ]
  },
  {
   "cell_type": "markdown",
   "metadata": {},
   "source": [
    "During the process the algorithm is gathering metrics. Let's inspect the last one"
   ]
  },
  {
   "cell_type": "code",
   "execution_count": 11,
   "metadata": {},
   "outputs": [
    {
     "data": {
      "text/plain": [
       "{'agent': {'population': 1958,\n",
       "  'numerosity': 2129,\n",
       "  'reliable': 168,\n",
       "  'fitness': 319.59022012624064,\n",
       "  'cover_ratio': 0.11909017948343786,\n",
       "  'trial': 9999,\n",
       "  'steps': 1,\n",
       "  'total_steps': 10000},\n",
       " 'environment': None,\n",
       " 'performance': None}"
      ]
     },
     "execution_count": 11,
     "metadata": {},
     "output_type": "execute_result"
    }
   ],
   "source": [
    "metrics[-1]"
   ]
  },
  {
   "cell_type": "code",
   "execution_count": 16,
   "metadata": {},
   "outputs": [
    {
     "name": "stdout",
     "output_type": "stream",
     "text": [
      "UBR(x1=4, x2=6)UBR(x1=0, x2=7)UBR(x1=4, x2=5)UBR(x1=0, x2=1)\n",
      "UBR(x1=0, x2=7)UBR(x1=0, x2=7)UBR(x1=0, x2=7)UBR(x1=7, x2=7)\n",
      "0.9999999999999989 999.9999999999976 537 9\n",
      "\n",
      "\n",
      "UBR(x1=4, x2=6)UBR(x1=0, x2=7)UBR(x1=5, x2=6)UBR(x1=0, x2=2)\n",
      "UBR(x1=0, x2=7)UBR(x1=0, x2=7)UBR(x1=0, x2=7)UBR(x1=7, x2=7)\n",
      "0.9999999999997579 999.9999993994824 326 4\n",
      "\n",
      "\n",
      "UBR(x1=4, x2=6)UBR(x1=0, x2=7)UBR(x1=1, x2=1)UBR(x1=0, x2=0)\n",
      "UBR(x1=0, x2=7)UBR(x1=0, x2=7)UBR(x1=0, x2=7)UBR(x1=7, x2=7)\n",
      "0.9999999999903991 999.9999842824917 310 6\n",
      "\n",
      "\n",
      "UBR(x1=0, x2=2)UBR(x1=1, x2=1)UBR(x1=0, x2=7)UBR(x1=0, x2=0)\n",
      "UBR(x1=0, x2=7)UBR(x1=0, x2=7)UBR(x1=0, x2=7)UBR(x1=7, x2=7)\n",
      "0.9999999997646577 999.9999698780201 240 9\n",
      "\n",
      "\n",
      "UBR(x1=0, x2=2)UBR(x1=0, x2=0)UBR(x1=0, x2=7)UBR(x1=0, x2=0)\n",
      "UBR(x1=0, x2=7)UBR(x1=0, x2=7)UBR(x1=0, x2=7)UBR(x1=7, x2=7)\n",
      "0.999999951926071 999.9999851939592 154 9\n",
      "\n",
      "\n",
      "UBR(x1=1, x2=2)UBR(x1=0, x2=0)UBR(x1=0, x2=7)UBR(x1=0, x2=0)\n",
      "UBR(x1=0, x2=7)UBR(x1=0, x2=7)UBR(x1=0, x2=7)UBR(x1=7, x2=7)\n",
      "0.9999999797021207 999.9998656233162 261 1\n",
      "\n",
      "\n",
      "UBR(x1=0, x2=7)UBR(x1=5, x2=5)UBR(x1=5, x2=6)UBR(x1=0, x2=1)\n",
      "UBR(x1=0, x2=7)UBR(x1=0, x2=7)UBR(x1=0, x2=7)UBR(x1=7, x2=7)\n",
      "0.9999999994072488 999.9997742227887 258 1\n",
      "\n",
      "\n",
      "UBR(x1=1, x2=2)UBR(x1=2, x2=2)UBR(x1=0, x2=7)UBR(x1=0, x2=1)\n",
      "UBR(x1=0, x2=7)UBR(x1=0, x2=7)UBR(x1=0, x2=7)UBR(x1=7, x2=7)\n",
      "0.9999999999757339 999.9997471549534 284 4\n",
      "\n",
      "\n",
      "UBR(x1=0, x2=2)UBR(x1=4, x2=4)UBR(x1=0, x2=7)UBR(x1=0, x2=0)\n",
      "UBR(x1=0, x2=7)UBR(x1=0, x2=7)UBR(x1=0, x2=7)UBR(x1=7, x2=7)\n",
      "0.9999999652961777 999.9997765881617 229 8\n",
      "\n",
      "\n",
      "UBR(x1=5, x2=5)UBR(x1=0, x2=7)UBR(x1=1, x2=2)UBR(x1=0, x2=0)\n",
      "UBR(x1=0, x2=7)UBR(x1=0, x2=7)UBR(x1=0, x2=7)UBR(x1=7, x2=7)\n",
      "0.9999999986041639 999.9996925090389 266 3\n",
      "\n",
      "\n"
     ]
    }
   ],
   "source": [
    "reliable = [cl for cl in population if cl.is_reliable()]\n",
    "reliable = sorted(reliable, key=lambda cl: -cl.fitness)\n",
    "\n",
    "for cl in reliable[:10]:\n",
    "    print(cl.condition)\n",
    "    print(cl.effect)\n",
    "    print(cl.q, cl.r, cl.exp, cl.num)\n",
    "    \n",
    "    print(\"\\n\")"
   ]
  },
  {
   "cell_type": "markdown",
   "metadata": {},
   "source": [
    "Try to exploit"
   ]
  },
  {
   "cell_type": "code",
   "execution_count": 13,
   "metadata": {},
   "outputs": [
    {
     "name": "stderr",
     "output_type": "stream",
     "text": [
      "INFO:root:{'agent': {'population': 1958, 'numerosity': 2129, 'reliable': 168, 'fitness': 319.60196977711, 'cover_ratio': 0.11909017948343786, 'trial': 0, 'steps': 1, 'total_steps': 1}, 'environment': None, 'performance': None}\n",
      "INFO:root:{'agent': {'population': 1958, 'numerosity': 2129, 'reliable': 168, 'fitness': 320.48079831859127, 'cover_ratio': 0.11909017948343786, 'trial': 25, 'steps': 1, 'total_steps': 26}, 'environment': None, 'performance': None}\n",
      "INFO:root:{'agent': {'population': 1958, 'numerosity': 2129, 'reliable': 168, 'fitness': 321.4283604198963, 'cover_ratio': 0.11909017948343786, 'trial': 50, 'steps': 1, 'total_steps': 51}, 'environment': None, 'performance': None}\n",
      "INFO:root:{'agent': {'population': 1958, 'numerosity': 2129, 'reliable': 168, 'fitness': 321.5917492707432, 'cover_ratio': 0.11909017948343786, 'trial': 75, 'steps': 1, 'total_steps': 76}, 'environment': None, 'performance': None}\n"
     ]
    }
   ],
   "source": [
    "EXPLOIT_TRIALS = 100\n",
    "\n",
    "# Create new using the whole population\n",
    "exploiter = RACS(cfg, population)\n",
    "population_1, metrics_1 = exploiter.exploit(rmpx, EXPLOIT_TRIALS)"
   ]
  }
 ],
 "metadata": {
  "kernelspec": {
   "display_name": "Python 3",
   "language": "python",
   "name": "python3"
  },
  "language_info": {
   "codemirror_mode": {
    "name": "ipython",
    "version": 3
   },
   "file_extension": ".py",
   "mimetype": "text/x-python",
   "name": "python",
   "nbconvert_exporter": "python",
   "pygments_lexer": "ipython3",
   "version": "3.7.0"
  }
 },
 "nbformat": 4,
 "nbformat_minor": 2
}
