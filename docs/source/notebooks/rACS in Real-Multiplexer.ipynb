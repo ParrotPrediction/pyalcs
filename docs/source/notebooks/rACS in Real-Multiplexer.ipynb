{
 "cells": [
  {
   "cell_type": "markdown",
   "metadata": {},
   "source": [
    "# rACS in Real-Multiplexer"
   ]
  },
  {
   "cell_type": "code",
   "execution_count": 42,
   "metadata": {},
   "outputs": [
    {
     "name": "stdout",
     "output_type": "stream",
     "text": [
      "The autoreload extension is already loaded. To reload it, use:\n",
      "  %reload_ext autoreload\n"
     ]
    }
   ],
   "source": [
    "# Logger\n",
    "import logging\n",
    "logging.basicConfig(level=logging.INFO)\n",
    "\n",
    "from itertools import groupby\n",
    "\n",
    "import numpy as np\n",
    "import pandas as pd\n",
    "import matplotlib.pyplot as plt\n",
    "\n",
    "# Import local paths\n",
    "import sys, os\n",
    "sys.path.append(os.path.abspath('../../..'))\n",
    "sys.path.append(os.path.abspath('../../../../openai-envs'))\n",
    "\n",
    "# Enable automatic module reload\n",
    "%load_ext autoreload\n",
    "%autoreload 2\n",
    "\n",
    "# Load PyALCS module\n",
    "from lcs.agents.racs import RACS, Configuration\n",
    "\n",
    "# Load OpenAI environments\n",
    "import gym\n",
    "import gym_multiplexer"
   ]
  },
  {
   "cell_type": "markdown",
   "metadata": {},
   "source": [
    "## Real-Multiplexer\n",
    "In 3-bit multiplexer first bit is responsible for addressing the correct answer.\n",
    "\n",
    "> For testing purposes the last bit is used as a flag indicating if the action chosen by the algorithm was correct. The environment always introduces it with 0. It's value is changed to 1 if the action was chosen correctly."
   ]
  },
  {
   "cell_type": "code",
   "execution_count": 2,
   "metadata": {},
   "outputs": [],
   "source": [
    "# Environment initialization\n",
    "rmpx = gym.make('real-multiplexer-3bit-v0')"
   ]
  },
  {
   "cell_type": "markdown",
   "metadata": {},
   "source": [
    "rMPX acts like a normal MPX with the difference that instead on boolean values floating numbers within range `[0,1]` are used. Environment used internal threshold to transform them into boolean values (`threshold=0.5` is used as default)."
   ]
  },
  {
   "cell_type": "code",
   "execution_count": 3,
   "metadata": {},
   "outputs": [
    {
     "data": {
      "text/plain": [
       "[0.39256269444295366, 0.7052934538236355, 0.6601307736331884, 0.0]"
      ]
     },
     "execution_count": 3,
     "metadata": {},
     "output_type": "execute_result"
    }
   ],
   "source": [
    "state = rmpx.reset()\n",
    "state"
   ]
  },
  {
   "cell_type": "markdown",
   "metadata": {},
   "source": [
    "Which corresponds to the following binary MPX:"
   ]
  },
  {
   "cell_type": "code",
   "execution_count": 4,
   "metadata": {},
   "outputs": [
    {
     "data": {
      "text/plain": [
       "[0, 1, 1, 0]"
      ]
     },
     "execution_count": 4,
     "metadata": {},
     "output_type": "execute_result"
    }
   ],
   "source": [
    "threshold = 0.5  # secret knowledge\n",
    "binary_state = map(lambda x: 1 if x > threshold else 0, state)\n",
    "\n",
    "list(binary_state)"
   ]
  },
  {
   "cell_type": "markdown",
   "metadata": {},
   "source": [
    "Depending on the MPX size we have some actions to be executed. In 3-bit variant first bit (_address bit_) points to the correct answer (two possible values)."
   ]
  },
  {
   "cell_type": "code",
   "execution_count": 5,
   "metadata": {},
   "outputs": [
    {
     "data": {
      "text/plain": [
       "2"
      ]
     },
     "execution_count": 5,
     "metadata": {},
     "output_type": "execute_result"
    }
   ],
   "source": [
    "rmpx.action_space.n"
   ]
  },
  {
   "cell_type": "markdown",
   "metadata": {},
   "source": [
    "We can also investigate the properties of a single observation (like vector dimension, lower and upper bound of each attribute)."
   ]
  },
  {
   "cell_type": "code",
   "execution_count": 6,
   "metadata": {},
   "outputs": [
    {
     "name": "stdout",
     "output_type": "stream",
     "text": [
      "Observation shape: (4,)\n",
      "Upper bounds: [0. 0. 0. 0.]\n",
      "Lower bounds: [1. 1. 1. 1.]\n"
     ]
    }
   ],
   "source": [
    "print(f\"Observation shape: {rmpx.observation_space.shape}\")\n",
    "print(f\"Upper bounds: {rmpx.observation_space.low}\")\n",
    "print(f\"Lower bounds: {rmpx.observation_space.high}\")"
   ]
  },
  {
   "cell_type": "markdown",
   "metadata": {},
   "source": [
    "## Experiment\n",
    "In the experiment each attribute range will be represented as an _unorded bounded tuple_ with desired encoding resolution."
   ]
  },
  {
   "cell_type": "code",
   "execution_count": 7,
   "metadata": {},
   "outputs": [],
   "source": [
    "# Define function for fetching interesing metrics\n",
    "def rmpx_metrics(population, environment):\n",
    "    return {\n",
    "        'population': len(population),\n",
    "        'numerosity': sum(cl.num for cl in population),\n",
    "        'reliable': len([cl for cl in population if cl.is_reliable()]),\n",
    "    }"
   ]
  },
  {
   "cell_type": "markdown",
   "metadata": {},
   "source": [
    "Define a function for executing experiments"
   ]
  },
  {
   "cell_type": "code",
   "execution_count": 48,
   "metadata": {},
   "outputs": [],
   "source": [
    "def perform_experiment(env, trials):\n",
    "    # create configuration\n",
    "    cfg = Configuration(env.observation_space.shape[0], env.action_space.n,\n",
    "                    metrics_trial_frequency=5,\n",
    "                    user_metrics_collector_fcn=rmpx_metrics,\n",
    "                    epsilon=1.0,  # no biased exploration\n",
    "                    do_ga=True,\n",
    "                    theta_r=0.9,  # reliablity threshold\n",
    "                    theta_i=0.2,  # inadequacy threshold\n",
    "                    theta_ga=100,\n",
    "                    cover_noise=0.2,\n",
    "                    mutation_noise=0.25,\n",
    "                    chi=1.0,  # cross-over probability\n",
    "                    mu=0.2)  # mutation probability\n",
    "    \n",
    "    # create agent\n",
    "    agent = RACS(cfg)\n",
    "    \n",
    "    # run computations\n",
    "    population, metrics = agent.explore_exploit(env, trials)\n",
    "    \n",
    "    return population, metrics"
   ]
  },
  {
   "cell_type": "markdown",
   "metadata": {},
   "source": [
    "## Data visualization"
   ]
  },
  {
   "cell_type": "code",
   "execution_count": 9,
   "metadata": {},
   "outputs": [],
   "source": [
    "def parse_metrics(metrics):\n",
    "    lst = [[d['trial'], d['reward'], d['population'], d['reliable']] for d in metrics]\n",
    "\n",
    "    df = pd.DataFrame(lst, columns=['trial', 'reward', 'population', 'reliable'])\n",
    "    df = df.set_index('trial')\n",
    "    df['mode'] = df.index.map(lambda t: \"explore\" if t % 2 == 0 else \"exploit\")\n",
    "\n",
    "    return df"
   ]
  },
  {
   "cell_type": "code",
   "execution_count": 10,
   "metadata": {},
   "outputs": [],
   "source": [
    "def plot_results(metrics, env):\n",
    "    # parse metrics into data frame\n",
    "    df = parse_metrics(metrics)\n",
    "    \n",
    "    # separate explore/exploit data\n",
    "    explore_df = df[df['mode'] == 'explore']\n",
    "    exploit_df = df[df['mode'] == 'exploit']\n",
    "    \n",
    "    f, (ax1, ax2) = plt.subplots(1, 2, figsize=(10, 5))\n",
    "    f.suptitle(f\"{env.env.spec.id}\", fontsize=14)\n",
    "    \n",
    "    # plot 1 - average reward\n",
    "    explore_df['reward'].rolling(window=50).mean().plot(label='explore', ax=ax1)\n",
    "    exploit_df['reward'].rolling(window=50).mean().plot(label='exploit', ax=ax1)\n",
    "\n",
    "    ax1.axhline(y=500, color='black', linestyle='--', linewidth=1)\n",
    "    ax1.axhline(y=1000, color='black', linestyle='--', linewidth=1)\n",
    "\n",
    "    # ax1.annotate('maximum reward', xy=(500, 950), xycoords='data')\n",
    "        \n",
    "    ax1.set_title('Average reward')\n",
    "    ax1.set_xlabel('Trial')\n",
    "    ax1.set_ylabel('Average reward')\n",
    "    ax1.set_ylim(400, 1100)\n",
    "    ax1.legend()\n",
    "    \n",
    "    # plot 2 - number of classifiers\n",
    "    df['population'].plot(label='population', ax=ax2)\n",
    "    df['reliable'].plot(label='reliable', ax=ax2)\n",
    "    \n",
    "    ax2.set_title(\"Classifiers evolution\")\n",
    "    ax2.set_xlabel('Trial')\n",
    "    ax2.set_ylabel('# Classifiers')\n",
    "    ax2.legend()\n",
    "    \n",
    "    #f.savefig(\"foo.pdf\", bbox_inches='tight')"
   ]
  },
  {
   "cell_type": "markdown",
   "metadata": {},
   "source": [
    "## Experiments"
   ]
  },
  {
   "cell_type": "code",
   "execution_count": 39,
   "metadata": {},
   "outputs": [],
   "source": [
    "def evaluate(rmpx, trials=10_000):\n",
    "    population, metrics = perform_experiment(rmpx, trials=trials)\n",
    "    plot_results(metrics, rmpx)\n",
    "    \n",
    "    # sort classifiers in population according to action\n",
    "    population = sorted(population, key=lambda cl: cl.action)\n",
    "\n",
    "    return population, metrics"
   ]
  },
  {
   "cell_type": "code",
   "execution_count": 45,
   "metadata": {},
   "outputs": [],
   "source": [
    "def print_k_best(pop, k=10):\n",
    "    pop = sorted(pop, key=lambda cl: -cl.fitness)\n",
    "    for cl in pop[:k]:\n",
    "        print(cl)"
   ]
  },
  {
   "cell_type": "markdown",
   "metadata": {},
   "source": [
    "### 3-bit rMPX"
   ]
  },
  {
   "cell_type": "code",
   "execution_count": 12,
   "metadata": {},
   "outputs": [],
   "source": [
    "rmpx3 = gym.make('real-multiplexer-3bit-v0')"
   ]
  },
  {
   "cell_type": "code",
   "execution_count": 49,
   "metadata": {
    "scrolled": true
   },
   "outputs": [
    {
     "name": "stderr",
     "output_type": "stream",
     "text": [
      "INFO:lcs.agents.Agent:{'trial': 0, 'steps_in_trial': 1, 'reward': 0, 'population': 1, 'numerosity': 1, 'reliable': 0}\n"
     ]
    },
    {
     "name": "stdout",
     "output_type": "stream",
     "text": [
      "CPU times: user 539 ms, sys: 11 ms, total: 550 ms\n",
      "Wall time: 524 ms\n"
     ]
    },
    {
     "data": {
      "image/png": "[encoded data removed]",
      "text/plain": [
       "<Figure size 720x360 with 2 Axes>"
      ]
     },
     "metadata": {},
     "output_type": "display_data"
    }
   ],
   "source": [
    "%%time\n",
    "\n",
    "pop, metrics = evaluate(rmpx3, trials=500)"
   ]
  },
  {
   "cell_type": "code",
   "execution_count": 50,
   "metadata": {},
   "outputs": [
    {
     "name": "stdout",
     "output_type": "stream",
     "text": [
      "[0.55;0.55][0.00;1.00][0.00;1.00][0.00;1.00]\t1\t[0.00;1.00][0.00;1.00][0.00;1.00][0.00;1.00] x 1 fitness: 314.63\n",
      "[0.00;1.00][0.00;1.00][0.17;0.17][0.00;1.00]\t1\t[0.00;1.00][0.00;1.00][0.00;1.00][0.00;1.00] x 1 fitness: 301.24\n",
      "[0.00;1.00][0.90;0.90][0.00;1.00][0.00;1.00]\t0\t[0.00;1.00][0.00;1.00][0.00;1.00][0.00;1.00] x 1 fitness: 293.21\n",
      "[0.00;1.00][0.00;1.00][0.42;0.42][0.00;1.00]\t1\t[0.00;1.00][0.00;1.00][0.00;1.00][0.00;1.00] x 1 fitness: 292.43\n",
      "[0.00;1.00][0.95;0.95][0.00;1.00][0.00;1.00]\t0\t[0.00;1.00][0.00;1.00][0.00;1.00][0.00;1.00] x 1 fitness: 288.90\n",
      "[0.00;1.00][0.00;1.00][0.40;0.40][0.00;1.00]\t0\t[0.00;1.00][0.00;1.00][0.00;1.00][0.00;1.00] x 1 fitness: 287.53\n",
      "[0.00;1.00][0.06;0.06][0.00;1.00][0.00;1.00]\t1\t[0.00;1.00][0.00;1.00][0.00;1.00][0.00;1.00] x 1 fitness: 277.09\n",
      "[0.00;1.00][0.00;1.00][0.28;0.28][0.00;1.00]\t0\t[0.00;1.00][0.00;1.00][0.00;1.00][0.00;1.00] x 1 fitness: 275.72\n",
      "[0.94;0.94][0.00;1.00][0.00;1.00][0.00;1.00]\t0\t[0.00;1.00][0.00;1.00][0.00;1.00][0.00;1.00] x 1 fitness: 271.45\n",
      "[0.00;1.00][0.00;1.00][0.49;0.49][0.00;1.00]\t0\t[0.00;1.00][0.00;1.00][0.00;1.00][0.00;1.00] x 1 fitness: 269.76\n"
     ]
    }
   ],
   "source": [
    "print_k_best(pop)"
   ]
  }
 ],
 "metadata": {
  "kernelspec": {
   "display_name": "Python 3",
   "language": "python",
   "name": "python3"
  },
  "language_info": {
   "codemirror_mode": {
    "name": "ipython",
    "version": 3
   },
   "file_extension": ".py",
   "mimetype": "text/x-python",
   "name": "python",
   "nbconvert_exporter": "python",
   "pygments_lexer": "ipython3",
   "version": "3.7.0"
  }
 },
 "nbformat": 4,
 "nbformat_minor": 2
}
