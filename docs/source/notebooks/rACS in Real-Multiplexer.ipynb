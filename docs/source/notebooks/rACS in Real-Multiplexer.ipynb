{
 "cells": [
  {
   "cell_type": "markdown",
   "metadata": {},
   "source": [
    "# rACS in Real-Multiplexer"
   ]
  },
  {
   "cell_type": "code",
   "execution_count": 13,
   "metadata": {},
   "outputs": [
    {
     "name": "stdout",
     "output_type": "stream",
     "text": [
      "The autoreload extension is already loaded. To reload it, use:\n",
      "  %reload_ext autoreload\n"
     ]
    }
   ],
   "source": [
    "# Logger\n",
    "import logging\n",
    "logging.basicConfig(level=logging.WARN)\n",
    "\n",
    "import numpy as np\n",
    "import pandas as pd\n",
    "\n",
    "# Import local paths\n",
    "import sys, os\n",
    "sys.path.append(os.path.abspath('../../..'))\n",
    "sys.path.append(os.path.abspath('../../../../openai-envs'))\n",
    "\n",
    "# Enable automatic module reload\n",
    "%load_ext autoreload\n",
    "%autoreload 2\n",
    "\n",
    "# Load PyALCS module\n",
    "from lcs.representations.RealValueEncoder import RealValueEncoder\n",
    "from lcs.agents.racs import RACS, Configuration\n",
    "\n",
    "# Load OpenAI environments\n",
    "import gym\n",
    "import gym_multiplexer"
   ]
  },
  {
   "cell_type": "markdown",
   "metadata": {},
   "source": [
    "## 3-bit Real-Multiplexer\n",
    "In 3-bit multiplexer first bit is responsible for addressing the correct answer.\n",
    "\n",
    "> For testing purposes the last bit is used as a flag indicating if the action chosen by the algorithm was correct. The environment always introduces it with 0. It's value is changed to 1 if the action was chosen correctly."
   ]
  },
  {
   "cell_type": "code",
   "execution_count": 2,
   "metadata": {},
   "outputs": [
    {
     "name": "stdout",
     "output_type": "stream",
     "text": [
      "\u001b[33mWARN: gym.spaces.Box autodetected dtype as <class 'numpy.float32'>. Please provide explicit dtype.\u001b[0m\n"
     ]
    }
   ],
   "source": [
    "# Environment initialization\n",
    "rmpx = gym.make('real-multiplexer-3bit-v0')"
   ]
  },
  {
   "cell_type": "markdown",
   "metadata": {},
   "source": [
    "rMPX acts like a normal MPX with the difference that instead on boolean values floating numbers within range `[0,1]` are used. Environment used internal threshold to transform them into boolean values (`threshold=0.5` is used as default)."
   ]
  },
  {
   "cell_type": "code",
   "execution_count": 3,
   "metadata": {},
   "outputs": [
    {
     "data": {
      "text/plain": [
       "[0.27772115871616476, 0.7426566047548088, 0.28689197501549846, 0]"
      ]
     },
     "execution_count": 3,
     "metadata": {},
     "output_type": "execute_result"
    }
   ],
   "source": [
    "state = rmpx.reset()\n",
    "state"
   ]
  },
  {
   "cell_type": "markdown",
   "metadata": {},
   "source": [
    "Which corresponds to the following binary MPX:"
   ]
  },
  {
   "cell_type": "code",
   "execution_count": 4,
   "metadata": {},
   "outputs": [
    {
     "data": {
      "text/plain": [
       "[0, 1, 0, 0]"
      ]
     },
     "execution_count": 4,
     "metadata": {},
     "output_type": "execute_result"
    }
   ],
   "source": [
    "threshold = 0.5  # secret knowledge\n",
    "binary_state = map(lambda x: 1 if x > threshold else 0, state)\n",
    "\n",
    "list(binary_state)"
   ]
  },
  {
   "cell_type": "markdown",
   "metadata": {},
   "source": [
    "Depending on the MPX size we have some actions to be executed. In 3-bit variant first bit (_address bit_) points to the correct answer (two possible values)."
   ]
  },
  {
   "cell_type": "code",
   "execution_count": 5,
   "metadata": {},
   "outputs": [
    {
     "data": {
      "text/plain": [
       "2"
      ]
     },
     "execution_count": 5,
     "metadata": {},
     "output_type": "execute_result"
    }
   ],
   "source": [
    "rmpx.action_space.n"
   ]
  },
  {
   "cell_type": "markdown",
   "metadata": {},
   "source": [
    "We can also investigate the properties of a single observation (like vector dimension, lower and upper bound of each attribute)."
   ]
  },
  {
   "cell_type": "code",
   "execution_count": 6,
   "metadata": {},
   "outputs": [
    {
     "name": "stdout",
     "output_type": "stream",
     "text": [
      "Observation shape: (4,)\n",
      "Upper bounds: [0. 0. 0. 0.]\n",
      "Lower bounds: [1. 1. 1. 1.]\n"
     ]
    }
   ],
   "source": [
    "print(f\"Observation shape: {rmpx.observation_space.shape}\")\n",
    "print(f\"Upper bounds: {rmpx.observation_space.low}\")\n",
    "print(f\"Lower bounds: {rmpx.observation_space.high}\")"
   ]
  },
  {
   "cell_type": "markdown",
   "metadata": {},
   "source": [
    "## rACS\n",
    "\n",
    "- write abount _encoders_"
   ]
  },
  {
   "cell_type": "code",
   "execution_count": 51,
   "metadata": {},
   "outputs": [
    {
     "data": {
      "text/html": [
       "<div>\n",
       "<style scoped>\n",
       "    .dataframe tbody tr th:only-of-type {\n",
       "        vertical-align: middle;\n",
       "    }\n",
       "\n",
       "    .dataframe tbody tr th {\n",
       "        vertical-align: top;\n",
       "    }\n",
       "\n",
       "    .dataframe thead th {\n",
       "        text-align: right;\n",
       "    }\n",
       "</style>\n",
       "<table border=\"1\" class=\"dataframe\">\n",
       "  <thead>\n",
       "    <tr style=\"text-align: right;\">\n",
       "      <th></th>\n",
       "      <th>1-bit</th>\n",
       "      <th>2-bit</th>\n",
       "      <th>3-bit</th>\n",
       "      <th>4-bit</th>\n",
       "      <th>5-bit</th>\n",
       "      <th>6-bit</th>\n",
       "      <th>7-bit</th>\n",
       "    </tr>\n",
       "    <tr>\n",
       "      <th>Perception</th>\n",
       "      <th></th>\n",
       "      <th></th>\n",
       "      <th></th>\n",
       "      <th></th>\n",
       "      <th></th>\n",
       "      <th></th>\n",
       "      <th></th>\n",
       "    </tr>\n",
       "  </thead>\n",
       "  <tbody>\n",
       "    <tr>\n",
       "      <th>0.0</th>\n",
       "      <td>0</td>\n",
       "      <td>0</td>\n",
       "      <td>0</td>\n",
       "      <td>0</td>\n",
       "      <td>0</td>\n",
       "      <td>0</td>\n",
       "      <td>0</td>\n",
       "    </tr>\n",
       "    <tr>\n",
       "      <th>0.1</th>\n",
       "      <td>0</td>\n",
       "      <td>0</td>\n",
       "      <td>1</td>\n",
       "      <td>2</td>\n",
       "      <td>3</td>\n",
       "      <td>6</td>\n",
       "      <td>13</td>\n",
       "    </tr>\n",
       "    <tr>\n",
       "      <th>0.2</th>\n",
       "      <td>0</td>\n",
       "      <td>1</td>\n",
       "      <td>1</td>\n",
       "      <td>3</td>\n",
       "      <td>6</td>\n",
       "      <td>13</td>\n",
       "      <td>25</td>\n",
       "    </tr>\n",
       "    <tr>\n",
       "      <th>0.3</th>\n",
       "      <td>0</td>\n",
       "      <td>1</td>\n",
       "      <td>2</td>\n",
       "      <td>5</td>\n",
       "      <td>9</td>\n",
       "      <td>19</td>\n",
       "      <td>38</td>\n",
       "    </tr>\n",
       "    <tr>\n",
       "      <th>0.4</th>\n",
       "      <td>0</td>\n",
       "      <td>1</td>\n",
       "      <td>3</td>\n",
       "      <td>6</td>\n",
       "      <td>12</td>\n",
       "      <td>25</td>\n",
       "      <td>51</td>\n",
       "    </tr>\n",
       "    <tr>\n",
       "      <th>0.5</th>\n",
       "      <td>0</td>\n",
       "      <td>2</td>\n",
       "      <td>4</td>\n",
       "      <td>8</td>\n",
       "      <td>16</td>\n",
       "      <td>32</td>\n",
       "      <td>64</td>\n",
       "    </tr>\n",
       "    <tr>\n",
       "      <th>0.6</th>\n",
       "      <td>1</td>\n",
       "      <td>2</td>\n",
       "      <td>4</td>\n",
       "      <td>9</td>\n",
       "      <td>19</td>\n",
       "      <td>38</td>\n",
       "      <td>76</td>\n",
       "    </tr>\n",
       "    <tr>\n",
       "      <th>0.7</th>\n",
       "      <td>1</td>\n",
       "      <td>2</td>\n",
       "      <td>5</td>\n",
       "      <td>11</td>\n",
       "      <td>22</td>\n",
       "      <td>44</td>\n",
       "      <td>89</td>\n",
       "    </tr>\n",
       "    <tr>\n",
       "      <th>0.8</th>\n",
       "      <td>1</td>\n",
       "      <td>2</td>\n",
       "      <td>6</td>\n",
       "      <td>12</td>\n",
       "      <td>25</td>\n",
       "      <td>50</td>\n",
       "      <td>102</td>\n",
       "    </tr>\n",
       "    <tr>\n",
       "      <th>0.9</th>\n",
       "      <td>1</td>\n",
       "      <td>3</td>\n",
       "      <td>6</td>\n",
       "      <td>14</td>\n",
       "      <td>28</td>\n",
       "      <td>57</td>\n",
       "      <td>114</td>\n",
       "    </tr>\n",
       "    <tr>\n",
       "      <th>1.0</th>\n",
       "      <td>1</td>\n",
       "      <td>3</td>\n",
       "      <td>7</td>\n",
       "      <td>15</td>\n",
       "      <td>31</td>\n",
       "      <td>63</td>\n",
       "      <td>127</td>\n",
       "    </tr>\n",
       "  </tbody>\n",
       "</table>\n",
       "</div>"
      ],
      "text/plain": [
       "            1-bit  2-bit  3-bit  4-bit  5-bit  6-bit  7-bit\n",
       "Perception                                                 \n",
       "0.0             0      0      0      0      0      0      0\n",
       "0.1             0      0      1      2      3      6     13\n",
       "0.2             0      1      1      3      6     13     25\n",
       "0.3             0      1      2      5      9     19     38\n",
       "0.4             0      1      3      6     12     25     51\n",
       "0.5             0      2      4      8     16     32     64\n",
       "0.6             1      2      4      9     19     38     76\n",
       "0.7             1      2      5     11     22     44     89\n",
       "0.8             1      2      6     12     25     50    102\n",
       "0.9             1      3      6     14     28     57    114\n",
       "1.0             1      3      7     15     31     63    127"
      ]
     },
     "execution_count": 51,
     "metadata": {},
     "output_type": "execute_result"
    }
   ],
   "source": [
    "def encode(bits, val):\n",
    "    return int(RealValueEncoder(bits).encode(val))\n",
    "\n",
    "r = np.arange(0, 1.1, .1)\n",
    "\n",
    "df = pd.DataFrame(r, columns=['Perception'])\n",
    "\n",
    "for bit in [1, 2, 3, 4, 5, 6, 7]:\n",
    "    df[f'{bit}-bit'] = df.apply(lambda row: encode(bit, row['Perception']), axis=1)\n",
    "\n",
    "df.set_index('Perception', inplace=True)\n",
    "df"
   ]
  },
  {
   "cell_type": "markdown",
   "metadata": {},
   "source": [
    "In the experiment each attribute range will be represented as an _unorded bounded tuple_ with desired encoding resolution."
   ]
  },
  {
   "cell_type": "code",
   "execution_count": 53,
   "metadata": {},
   "outputs": [],
   "source": [
    "ENCODER_BITS = 1\n",
    "\n",
    "cfg = Configuration(rmpx.observation_space.shape[0], rmpx.action_space.n,\n",
    "                    encoder=RealValueEncoder(ENCODER_BITS),\n",
    "                    epsilon=0.5,  # exploration-exploitation ratio\n",
    "                    do_ga=True,\n",
    "                    theta_r=0.9,  # reliablity threshold\n",
    "                    theta_i=0.2,  # inadequacy threshold\n",
    "                    theta_ga=100,\n",
    "                    chi=0.5,  # cross-over probability\n",
    "                    mu=0.15)  # mutation probability"
   ]
  },
  {
   "cell_type": "markdown",
   "metadata": {},
   "source": [
    "Initialize agent with no initial classifiers using configuration above."
   ]
  },
  {
   "cell_type": "code",
   "execution_count": 54,
   "metadata": {},
   "outputs": [],
   "source": [
    "agent = RACS(cfg)"
   ]
  },
  {
   "cell_type": "markdown",
   "metadata": {},
   "source": [
    "Perform exploration for some trials"
   ]
  },
  {
   "cell_type": "code",
   "execution_count": 55,
   "metadata": {},
   "outputs": [
    {
     "name": "stdout",
     "output_type": "stream",
     "text": [
      "CPU times: user 1min 47s, sys: 401 ms, total: 1min 48s\n",
      "Wall time: 1min 48s\n"
     ]
    }
   ],
   "source": [
    "%%time\n",
    "\n",
    "EXPLORE_TRIALS = 10_000\n",
    "population, metrics = agent.explore(rmpx, EXPLORE_TRIALS)"
   ]
  },
  {
   "cell_type": "markdown",
   "metadata": {},
   "source": [
    "During the process the algorithm is gathering metrics. Let's inspect the last one"
   ]
  },
  {
   "cell_type": "code",
   "execution_count": 56,
   "metadata": {},
   "outputs": [
    {
     "data": {
      "text/plain": [
       "{'agent': {'population': 160,\n",
       "  'numerosity': 160,\n",
       "  'reliable': 129,\n",
       "  'fitness': 473.2724739886333,\n",
       "  'cover_ratio': 0.375,\n",
       "  'trial': 9999,\n",
       "  'steps': 1,\n",
       "  'total_steps': 10000},\n",
       " 'environment': None,\n",
       " 'performance': None}"
      ]
     },
     "execution_count": 56,
     "metadata": {},
     "output_type": "execute_result"
    }
   ],
   "source": [
    "metrics[-1]"
   ]
  },
  {
   "cell_type": "code",
   "execution_count": 57,
   "metadata": {},
   "outputs": [
    {
     "name": "stdout",
     "output_type": "stream",
     "text": [
      "UBR(x1=1, x2=1)UBR(x1=0, x2=1)UBR(x1=0, x2=0)UBR(x1=0, x2=0)\n",
      "UBR(x1=0, x2=1)UBR(x1=0, x2=1)UBR(x1=0, x2=1)UBR(x1=1, x2=1)\n",
      "0.9999999999999989 999.9999999999989 866 1\n",
      "\n",
      "\n",
      "UBR(x1=0, x2=0)UBR(x1=0, x2=0)UBR(x1=0, x2=1)UBR(x1=0, x2=0)\n",
      "UBR(x1=0, x2=1)UBR(x1=0, x2=1)UBR(x1=0, x2=1)UBR(x1=1, x2=1)\n",
      "0.9999999999999989 999.9999999999989 795 1\n",
      "\n",
      "\n",
      "UBR(x1=0, x2=0)UBR(x1=0, x2=0)UBR(x1=0, x2=1)UBR(x1=0, x2=0)\n",
      "UBR(x1=0, x2=1)UBR(x1=0, x2=1)UBR(x1=0, x2=1)UBR(x1=1, x2=1)\n",
      "0.9999999999999989 999.9999999999989 760 1\n",
      "\n",
      "\n",
      "UBR(x1=0, x2=0)UBR(x1=0, x2=0)UBR(x1=0, x2=1)UBR(x1=0, x2=0)\n",
      "UBR(x1=0, x2=1)UBR(x1=0, x2=1)UBR(x1=0, x2=1)UBR(x1=1, x2=1)\n",
      "0.9999999999999981 999.9999999999989 651 1\n",
      "\n",
      "\n",
      "UBR(x1=1, x2=1)UBR(x1=0, x2=1)UBR(x1=0, x2=0)UBR(x1=0, x2=0)\n",
      "UBR(x1=0, x2=1)UBR(x1=0, x2=1)UBR(x1=0, x2=1)UBR(x1=1, x2=1)\n",
      "0.9999999999999958 999.9999999999989 633 1\n",
      "\n",
      "\n",
      "UBR(x1=0, x2=0)UBR(x1=1, x2=1)UBR(x1=0, x2=1)UBR(x1=0, x2=0)\n",
      "UBR(x1=0, x2=1)UBR(x1=0, x2=1)UBR(x1=0, x2=1)UBR(x1=1, x2=1)\n",
      "0.9999999999999946 999.9999999999989 628 1\n",
      "\n",
      "\n",
      "UBR(x1=1, x2=1)UBR(x1=0, x2=1)UBR(x1=1, x2=1)UBR(x1=0, x2=0)\n",
      "UBR(x1=0, x2=1)UBR(x1=0, x2=1)UBR(x1=0, x2=1)UBR(x1=1, x2=1)\n",
      "0.9999999999999258 999.9999999999989 577 1\n",
      "\n",
      "\n",
      "UBR(x1=1, x2=1)UBR(x1=0, x2=1)UBR(x1=0, x2=0)UBR(x1=0, x2=0)\n",
      "UBR(x1=0, x2=1)UBR(x1=0, x2=1)UBR(x1=0, x2=1)UBR(x1=1, x2=1)\n",
      "0.9999999999998637 999.9999999999989 565 1\n",
      "\n",
      "\n",
      "UBR(x1=1, x2=1)UBR(x1=0, x2=1)UBR(x1=0, x2=0)UBR(x1=0, x2=0)\n",
      "UBR(x1=0, x2=1)UBR(x1=0, x2=1)UBR(x1=0, x2=1)UBR(x1=1, x2=1)\n",
      "0.9999999999991782 999.9999999999989 530 1\n",
      "\n",
      "\n",
      "UBR(x1=1, x2=1)UBR(x1=0, x2=1)UBR(x1=0, x2=0)UBR(x1=0, x2=0)\n",
      "UBR(x1=0, x2=1)UBR(x1=0, x2=1)UBR(x1=0, x2=1)UBR(x1=1, x2=1)\n",
      "0.999999999999178 999.9999999999989 530 1\n",
      "\n",
      "\n"
     ]
    }
   ],
   "source": [
    "reliable = [cl for cl in population if cl.is_reliable()]\n",
    "reliable = sorted(reliable, key=lambda cl: -cl.fitness)\n",
    "\n",
    "for cl in reliable[:10]:\n",
    "    print(cl.condition)\n",
    "    print(cl.effect)\n",
    "    print(cl.q, cl.r, cl.exp, cl.num)\n",
    "    \n",
    "    print(\"\\n\")"
   ]
  },
  {
   "cell_type": "markdown",
   "metadata": {},
   "source": [
    "Try to exploit"
   ]
  },
  {
   "cell_type": "code",
   "execution_count": 58,
   "metadata": {},
   "outputs": [],
   "source": [
    "EXPLOIT_TRIALS = 100\n",
    "\n",
    "# Create new using the whole population\n",
    "exploiter = RACS(cfg, population)\n",
    "population_1, metrics_1 = exploiter.exploit(rmpx, EXPLOIT_TRIALS)"
   ]
  }
 ],
 "metadata": {
  "kernelspec": {
   "display_name": "Python 3",
   "language": "python",
   "name": "python3"
  },
  "language_info": {
   "codemirror_mode": {
    "name": "ipython",
    "version": 3
   },
   "file_extension": ".py",
   "mimetype": "text/x-python",
   "name": "python",
   "nbconvert_exporter": "python",
   "pygments_lexer": "ipython3",
   "version": "3.7.0"
  }
 },
 "nbformat": 4,
 "nbformat_minor": 2
}
