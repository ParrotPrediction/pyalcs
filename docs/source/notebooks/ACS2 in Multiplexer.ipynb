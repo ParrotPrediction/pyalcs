{
 "cells": [
  {
   "cell_type": "markdown",
   "metadata": {},
   "source": [
    "# ACS2 in Multiplexer"
   ]
  },
  {
   "cell_type": "code",
   "execution_count": 2,
   "metadata": {},
   "outputs": [],
   "source": [
    "%matplotlib inline\n",
    "\n",
    "# General\n",
    "from __future__ import unicode_literals\n",
    "import pickle\n",
    "\n",
    "import numpy as np\n",
    "import pandas as pd\n",
    "\n",
    "# Logger\n",
    "import logging\n",
    "logging.basicConfig(level=logging.WARN)\n",
    "\n",
    "# ALCS + custom environments\n",
    "import sys, os\n",
    "sys.path.append(os.path.abspath('../../..'))\n",
    "sys.path.append(os.path.abspath('../../../../openai-envs'))\n",
    "\n",
    "# Enable automatic module reload\n",
    "%load_ext autoreload\n",
    "%autoreload 2\n",
    "\n",
    "# Load PyALCS module\n",
    "from lcs.agents.acs2 import ACS2, Configuration, ClassifiersList\n",
    "\n",
    "# Load environments\n",
    "import gym\n",
    "import gym_multiplexer"
   ]
  },
  {
   "cell_type": "markdown",
   "metadata": {},
   "source": [
    "## Multiplexer"
   ]
  },
  {
   "cell_type": "code",
   "execution_count": 3,
   "metadata": {},
   "outputs": [
    {
     "data": {
      "text/plain": [
       "[0, 1, 0, 0, 0, 0, 0, 0, 1, 1, 0, 1, 0, 1, 0, 0, 0, 0, 0, 1, 0]"
      ]
     },
     "execution_count": 3,
     "metadata": {},
     "output_type": "execute_result"
    }
   ],
   "source": [
    "mp = gym.make('boolean-multiplexer-20bit-v0')\n",
    "situation = mp.reset()\n",
    "mp.render()"
   ]
  },
  {
   "cell_type": "code",
   "execution_count": 4,
   "metadata": {},
   "outputs": [
    {
     "name": "stdout",
     "output_type": "stream",
     "text": [
      "New state: [0, 1, 0, 0, 0, 0, 0, 0, 1, 1, 0, 1, 0, 1, 0, 0, 0, 0, 0, 1, 0], reward: 0, is done: True\n"
     ]
    }
   ],
   "source": [
    "state, reward, done, _ = mp.step(0)\n",
    "\n",
    "print(\"New state: {}, reward: {}, is done: {}\".format(state, reward, done))"
   ]
  },
  {
   "cell_type": "code",
   "execution_count": 5,
   "metadata": {},
   "outputs": [
    {
     "data": {
      "text/plain": [
       "[0, 1, 0, 0, 0, 0, 0, 0, 1, 1, 0, 1, 0, 1, 0, 0, 0, 0, 0, 1, 0]"
      ]
     },
     "execution_count": 5,
     "metadata": {},
     "output_type": "execute_result"
    }
   ],
   "source": [
    "mp.render()"
   ]
  },
  {
   "cell_type": "markdown",
   "metadata": {},
   "source": [
    "### Evaluation\n",
    "Calculate knowledge - check if any of the reliable classifiers gives correct answer."
   ]
  },
  {
   "cell_type": "code",
   "execution_count": 22,
   "metadata": {},
   "outputs": [],
   "source": [
    "from gym_multiplexer.utils import get_correct_answer\n",
    "\n",
    "def calculate_performance(env, population, ctrl_bits=None):\n",
    "    p1 = env.render('ansi')  # state after executing action\n",
    "    p0 = p1[:-1] + ['0']  # initial state\n",
    "    correct_answer = get_correct_answer(p0, ctrl_bits)  # true action\n",
    "\n",
    "    reliable_classifiers = [c for c in population if c.is_reliable()]\n",
    "\n",
    "    cl_exists = any([1 for cl in reliable_classifiers if\n",
    "                     cl.predicts_successfully(p0, correct_answer, p1)])\n",
    "\n",
    "    return {\n",
    "        'was_correct': cl_exists\n",
    "    }"
   ]
  },
  {
   "cell_type": "markdown",
   "metadata": {},
   "source": [
    "## Go agent, go...\n",
    "Perform experiment for a couple of explore/exploit trials."
   ]
  },
  {
   "cell_type": "code",
   "execution_count": 26,
   "metadata": {},
   "outputs": [],
   "source": [
    "def _map_perception(perception):\n",
    "    return [str(x) for x in perception]\n",
    "\n",
    "def get_6bit_mp_actors():\n",
    "    mp = gym.make('boolean-multiplexer-6bit-v0')\n",
    "    cfg = Configuration(\n",
    "        mp.env.observation_space.n,\n",
    "        2,\n",
    "        perception_mapper_fcn=_map_perception,\n",
    "        performance_fcn=calculate_performance,\n",
    "        performance_fcn_params={'ctrl_bits': 2},\n",
    "        do_ga=True)\n",
    "\n",
    "    return ACS2(cfg), mp\n",
    "\n",
    "def get_11bit_mp_actors():\n",
    "    mp = gym.make('boolean-multiplexer-11bit-v0')\n",
    "    cfg = Configuration(\n",
    "        mp.env.observation_space.n,\n",
    "        2,\n",
    "        perception_mapper_fcn=_map_perception,\n",
    "        performance_fcn=calculate_performance,\n",
    "        performance_fcn_params={'ctrl_bits': 3},\n",
    "        do_ga=True)\n",
    "\n",
    "    return ACS2(cfg), mp\n",
    "\n",
    "def get_20bit_mp_actors():\n",
    "    mp = gym.make('boolean-multiplexer-20bit-v0')\n",
    "    cfg = Configuration(\n",
    "        mp.env.observation_space.n,\n",
    "        2,\n",
    "        perception_mapper_fcn=_map_perception,\n",
    "        performance_fcn=calculate_performance,\n",
    "        performance_fcn_params={'ctrl_bits': 4},\n",
    "        do_ga=True)\n",
    "\n",
    "    return ACS2(cfg), mp"
   ]
  },
  {
   "cell_type": "code",
   "execution_count": 29,
   "metadata": {},
   "outputs": [],
   "source": [
    "def perform_experiment(agent, env, trials=250_000):\n",
    "    population, metrics = agent.explore_exploit(env, trials)\n",
    "    print(\"Population size: {}\".format(metrics[-1]['agent']['population']))\n",
    "    print(\"Reliable size: {}\".format(metrics[-1]['agent']['reliable']))\n",
    "    print(metrics[-1])\n",
    "    \n",
    "    reliable_classifiers = [c for c in population if c.is_reliable()]\n",
    "    reliable_classifiers = sorted(reliable_classifiers, key=lambda cl: -cl.q)\n",
    "\n",
    "    # Print top 10 reliable classifiers\n",
    "    for cl in reliable_classifiers[:10]:\n",
    "        print(f\"{cl}, q: {cl.q:.2f}, exp: {cl.exp:.2f}\")\n",
    "    \n",
    "    return population, metrics"
   ]
  },
  {
   "cell_type": "markdown",
   "metadata": {},
   "source": [
    "Here you will probably want to run these experiments for about 250k trials."
   ]
  },
  {
   "cell_type": "code",
   "execution_count": 32,
   "metadata": {},
   "outputs": [],
   "source": [
    "TRIALS = 5_000"
   ]
  },
  {
   "cell_type": "code",
   "execution_count": 33,
   "metadata": {},
   "outputs": [
    {
     "name": "stdout",
     "output_type": "stream",
     "text": [
      "Population size: 152\n",
      "Reliable size: 68\n",
      "{'agent': {'population': 152, 'numerosity': 341, 'reliable': 68, 'fitness': 500.59664913784985, 'trial': 4999, 'steps': 1, 'total_steps': 5000}, 'environment': None, 'performance': {'was_correct': False}}\n",
      "1###00#-0-######1 @ 0x10faa6eb8, q: 1.00, exp: 228.00\n",
      "11###1#-1-######1 @ 0x10fb5ccc0, q: 1.00, exp: 200.00\n",
      "10##1##-1-######1 @ 0x10fb87400, q: 1.00, exp: 205.00\n",
      "001###0-1-######1 @ 0x10fb6f668, q: 1.00, exp: 228.00\n",
      "11###0#-0-######1 @ 0x10fbb12e8, q: 1.00, exp: 208.00\n",
      "01#0##0-0-######1 @ 0x10fb24748, q: 1.00, exp: 212.00\n",
      "01#1###-1-######1 @ 0x10fa72eb8, q: 1.00, exp: 140.00\n",
      "10##0##-0-######1 @ 0x10fbd77b8, q: 1.00, exp: 211.00\n",
      "0#00###-0-######1 @ 0x10fb246d8, q: 1.00, exp: 162.00\n",
      "001####-1-######1 @ 0x10fae9e10, q: 1.00, exp: 145.00\n"
     ]
    }
   ],
   "source": [
    "# 6bit\n",
    "p6, m6 = perform_experiment(*get_6bit_mp_actors(), trials=TRIALS)"
   ]
  },
  {
   "cell_type": "code",
   "execution_count": 34,
   "metadata": {
    "scrolled": false
   },
   "outputs": [
    {
     "name": "stdout",
     "output_type": "stream",
     "text": [
      "Population size: 1169\n",
      "Reliable size: 66\n",
      "{'agent': {'population': 1169, 'numerosity': 1309, 'reliable': 66, 'fitness': 414.1000743258302, 'trial': 4999, 'steps': 1, 'total_steps': 5000}, 'environment': None, 'performance': {'was_correct': False}}\n",
      "010##1#####0-1-###########1 @ 0x10f802668, q: 1.00, exp: 103.00\n",
      "#001###1###0-1-###########1 @ 0x1103227b8, q: 1.00, exp: 113.00\n",
      "00#11#######-1-###########1 @ 0x1101eae48, q: 1.00, exp: 99.00\n",
      "0#1#0#0####0-0-###########1 @ 0x10f49ee48, q: 1.00, exp: 108.00\n",
      "100####0###0-0-###########1 @ 0x110114a20, q: 1.00, exp: 95.00\n",
      "110######0##-0-###########1 @ 0x10f78a6d8, q: 1.00, exp: 74.00\n",
      "111#######10-1-###########1 @ 0x11026e0f0, q: 1.00, exp: 82.00\n",
      "0#00#0#####0-0-###########1 @ 0x10f7ec780, q: 1.00, exp: 108.00\n",
      "101#####1##0-1-###########1 @ 0x110446c88, q: 1.00, exp: 85.00\n",
      "#10##1###1#0-1-###########1 @ 0x11030e898, q: 1.00, exp: 87.00\n"
     ]
    }
   ],
   "source": [
    "# 11bit\n",
    "p11, m11 = perform_experiment(*get_11bit_mp_actors(), trials=TRIALS)"
   ]
  },
  {
   "cell_type": "code",
   "execution_count": 35,
   "metadata": {},
   "outputs": [
    {
     "name": "stdout",
     "output_type": "stream",
     "text": [
      "Population size: 3409\n",
      "Reliable size: 11\n",
      "{'agent': {'population': 3409, 'numerosity': 3425, 'reliable': 11, 'fitness': 353.76202602008107, 'trial': 4999, 'steps': 1, 'total_steps': 5000}, 'environment': None, 'performance': {'was_correct': False}}\n",
      "0100####0###########0-0-####################1 @ 0x110d8c5c0, q: 1.00, exp: 50.00\n",
      "01#0####0#0#########0-0-####################1 @ 0x10f13e2b0, q: 1.00, exp: 47.00\n",
      "0111#######0########0-0-####################1 @ 0x110ea3278, q: 1.00, exp: 37.00\n",
      "100#########00######0-0-####################1 @ 0x110fbbe80, q: 0.99, exp: 39.00\n",
      "0#11###0###0########0-0-####################1 @ 0x110fbbd30, q: 0.99, exp: 36.00\n",
      "1001#########0######0-0-####################1 @ 0x110ec0940, q: 0.99, exp: 38.00\n",
      "#0000#######0########-1-##################### @ 0x10f212be0, q: 0.97, exp: 25.00\n",
      "##000#######0###0####-1-##################### @ 0x110dd4198, q: 0.92, exp: 18.00\n",
      "11#0###1####1###1#1#0-1-####################1 @ 0x110f65278, q: 0.91, exp: 9.00\n",
      "0100####0#######1###0-0-####################1 @ 0x110fc42b0, q: 0.91, exp: 26.00\n"
     ]
    }
   ],
   "source": [
    "# 20bit\n",
    "p20, m20 = perform_experiment(*get_20bit_mp_actors(), trials=TRIALS)"
   ]
  },
  {
   "cell_type": "code",
   "execution_count": 36,
   "metadata": {},
   "outputs": [],
   "source": [
    "def parse_metrics_to_df(metrics):\n",
    "    def extract_details(row):\n",
    "        row['trial'] = row['agent']['trial']\n",
    "        row['numerosity'] = row['agent']['numerosity']\n",
    "        row['reliable'] = row['agent']['reliable']\n",
    "        row['was_correct'] = row['performance']['was_correct']\n",
    "        return row\n",
    "    \n",
    "    df = pd.DataFrame(metrics)\n",
    "    df = df.apply(extract_details, axis=1)\n",
    "    df.drop(['agent', 'environment', 'performance'], axis=1, inplace=True)\n",
    "    df.set_index('trial', inplace=True)\n",
    "    \n",
    "    return df"
   ]
  },
  {
   "cell_type": "code",
   "execution_count": 38,
   "metadata": {},
   "outputs": [
    {
     "data": {
      "text/html": [
       "<div>\n",
       "<style scoped>\n",
       "    .dataframe tbody tr th:only-of-type {\n",
       "        vertical-align: middle;\n",
       "    }\n",
       "\n",
       "    .dataframe tbody tr th {\n",
       "        vertical-align: top;\n",
       "    }\n",
       "\n",
       "    .dataframe thead th {\n",
       "        text-align: right;\n",
       "    }\n",
       "</style>\n",
       "<table border=\"1\" class=\"dataframe\">\n",
       "  <thead>\n",
       "    <tr style=\"text-align: right;\">\n",
       "      <th></th>\n",
       "      <th>numerosity</th>\n",
       "      <th>reliable</th>\n",
       "      <th>was_correct</th>\n",
       "    </tr>\n",
       "    <tr>\n",
       "      <th>trial</th>\n",
       "      <th></th>\n",
       "      <th></th>\n",
       "      <th></th>\n",
       "    </tr>\n",
       "  </thead>\n",
       "  <tbody>\n",
       "    <tr>\n",
       "      <th>0</th>\n",
       "      <td>1</td>\n",
       "      <td>0</td>\n",
       "      <td>False</td>\n",
       "    </tr>\n",
       "    <tr>\n",
       "      <th>1</th>\n",
       "      <td>1</td>\n",
       "      <td>0</td>\n",
       "      <td>False</td>\n",
       "    </tr>\n",
       "    <tr>\n",
       "      <th>2</th>\n",
       "      <td>2</td>\n",
       "      <td>0</td>\n",
       "      <td>False</td>\n",
       "    </tr>\n",
       "    <tr>\n",
       "      <th>3</th>\n",
       "      <td>2</td>\n",
       "      <td>0</td>\n",
       "      <td>False</td>\n",
       "    </tr>\n",
       "    <tr>\n",
       "      <th>4</th>\n",
       "      <td>3</td>\n",
       "      <td>0</td>\n",
       "      <td>False</td>\n",
       "    </tr>\n",
       "  </tbody>\n",
       "</table>\n",
       "</div>"
      ],
      "text/plain": [
       "       numerosity  reliable  was_correct\n",
       "trial                                   \n",
       "0               1         0        False\n",
       "1               1         0        False\n",
       "2               2         0        False\n",
       "3               2         0        False\n",
       "4               3         0        False"
      ]
     },
     "execution_count": 38,
     "metadata": {},
     "output_type": "execute_result"
    }
   ],
   "source": [
    "# parse metrics to df\n",
    "df6bit = parse_metrics_to_df(m6)\n",
    "df11bit = parse_metrics_to_df(m11)\n",
    "df20bit = parse_metrics_to_df(m20)\n",
    "\n",
    "df6bit.head()"
   ]
  },
  {
   "cell_type": "code",
   "execution_count": 49,
   "metadata": {},
   "outputs": [
    {
     "data": {
      "image/png": "[encoded data removed]",
      "text/plain": [
       "<Figure size 432x288 with 1 Axes>"
      ]
     },
     "metadata": {},
     "output_type": "display_data"
    }
   ],
   "source": [
    "import matplotlib\n",
    "import matplotlib.pyplot as plt\n",
    "import matplotlib.ticker as tkr\n",
    "\n",
    "# To avoid Type3 fonts in generated EPS file\n",
    "matplotlib.rcParams['pdf.fonttype'] = 42\n",
    "matplotlib.rcParams['ps.fonttype'] = 42\n",
    "\n",
    "window=100\n",
    "TOP_ROWS=TRIALS\n",
    "\n",
    "\n",
    "fig, ax = plt.subplots()\n",
    "\n",
    "df6bit['reliable'].head(TOP_ROWS).rolling(window=window).mean().plot(color='#e41a1c', linewidth=1.0, ax=ax)\n",
    "ax.text(1700, 50, '6-bit', color='#e41a1c')\n",
    "\n",
    "df11bit['reliable'].head(TOP_ROWS).rolling(window=window).mean().plot(color='#377eb8', linewidth=1.0, ax=ax)\n",
    "ax.text(2000, 20, '11-bit', color='#377eb8')\n",
    "\n",
    "df20bit['reliable'].head(TOP_ROWS).rolling(window=window).mean().plot(color='#4daf4a', linewidth=1.0, ax=ax)\n",
    "ax.text(4000, 15, '20-bit', color='#4daf4a')\n",
    "\n",
    "ax.set_xlabel('Trials')\n",
    "ax.set_ylabel('Reliable classifiers')\n",
    "ax.set_title(f'Number of reliable classifiers for boolean MPX.\\nResults averaged over {window} trials')\n",
    "plt.show()\n",
    "\n",
    "# plt.savefig('mpx.eps', format='eps', dpi=100)"
   ]
  }
 ],
 "metadata": {
  "kernelspec": {
   "display_name": "Python 3",
   "language": "python",
   "name": "python3"
  },
  "language_info": {
   "codemirror_mode": {
    "name": "ipython",
    "version": 3
   },
   "file_extension": ".py",
   "mimetype": "text/x-python",
   "name": "python",
   "nbconvert_exporter": "python",
   "pygments_lexer": "ipython3",
   "version": "3.7.0"
  }
 },
 "nbformat": 4,
 "nbformat_minor": 2
}
