{
 "cells": [
  {
   "cell_type": "markdown",
   "metadata": {},
   "source": [
    "# `copy()` and `deepcopy()` test\n",
    "Import libraries"
   ]
  },
  {
   "cell_type": "code",
   "execution_count": 1,
   "metadata": {
    "collapsed": true
   },
   "outputs": [],
   "source": [
    "from copy import copy, deepcopy"
   ]
  },
  {
   "cell_type": "markdown",
   "metadata": {},
   "source": [
    "Create class that will be stored inside collection"
   ]
  },
  {
   "cell_type": "code",
   "execution_count": 13,
   "metadata": {
    "collapsed": true
   },
   "outputs": [],
   "source": [
    "class Person(object):\n",
    "    def __init__(self, name, age):\n",
    "        self.name = name\n",
    "        self.age = age\n",
    "    \n",
    "    def __eq__(self, other):\n",
    "        if (other.name == self.name and other.age == self.age):\n",
    "            return True\n",
    "        return False\n",
    "        \n",
    "    def __repr__(self):\n",
    "        return 'Person[name: {}, age: {}]'.format(self.name, self.age)"
   ]
  },
  {
   "cell_type": "markdown",
   "metadata": {},
   "source": [
    "## Original collection\n",
    "Create a collection of objects"
   ]
  },
  {
   "cell_type": "code",
   "execution_count": 3,
   "metadata": {
    "collapsed": false
   },
   "outputs": [],
   "source": [
    "original = [\n",
    "    Person('Bob', 24),\n",
    "    Person('Alice', 17)\n",
    "]"
   ]
  },
  {
   "cell_type": "markdown",
   "metadata": {},
   "source": [
    "Helper function for printing details about the objects"
   ]
  },
  {
   "cell_type": "code",
   "execution_count": 4,
   "metadata": {
    "collapsed": false
   },
   "outputs": [],
   "source": [
    "def print_details(collection):\n",
    "    print(\"Collection id: {}\".format(id(collection)))\n",
    "    \n",
    "    for idx, obj in enumerate(collection):\n",
    "        print('[{}]\\t{}\\tid: {}'.format(idx, obj, id(obj)))"
   ]
  },
  {
   "cell_type": "markdown",
   "metadata": {},
   "source": [
    "Details of the original collection"
   ]
  },
  {
   "cell_type": "code",
   "execution_count": 5,
   "metadata": {
    "collapsed": false
   },
   "outputs": [
    {
     "name": "stdout",
     "output_type": "stream",
     "text": [
      "Collection id: 140290077461256\n",
      "[0]\tPerson[name: Bob, age: 24]\tid: 140290077675704\n",
      "[1]\tPerson[name: Alice, age: 17]\tid: 140290077675760\n"
     ]
    }
   ],
   "source": [
    "print_details(original)"
   ]
  },
  {
   "cell_type": "markdown",
   "metadata": {},
   "source": [
    "## Shallow copy"
   ]
  },
  {
   "cell_type": "code",
   "execution_count": 6,
   "metadata": {
    "collapsed": false
   },
   "outputs": [
    {
     "name": "stdout",
     "output_type": "stream",
     "text": [
      "Collection id: 140290077472136\n",
      "[0]\tPerson[name: Bob, age: 24]\tid: 140290077675704\n",
      "[1]\tPerson[name: Alice, age: 17]\tid: 140290077675760\n"
     ]
    }
   ],
   "source": [
    "shallow_copy = copy(original)\n",
    "\n",
    "print_details(shallow_copy)"
   ]
  },
  {
   "cell_type": "markdown",
   "metadata": {},
   "source": [
    "In this case only the container object changed - it still points to the same objects"
   ]
  },
  {
   "cell_type": "code",
   "execution_count": 7,
   "metadata": {
    "collapsed": false
   },
   "outputs": [
    {
     "name": "stdout",
     "output_type": "stream",
     "text": [
      "Collection id: 140290077472136\n",
      "[0]\tPerson[name: Changed original, age: 24]\tid: 140290077675704\n",
      "[1]\tPerson[name: Alice, age: 17]\tid: 140290077675760\n"
     ]
    }
   ],
   "source": [
    "original[0].name = 'Changed original'\n",
    "print_details(shallow_copy)"
   ]
  },
  {
   "cell_type": "code",
   "execution_count": 8,
   "metadata": {
    "collapsed": true
   },
   "outputs": [],
   "source": [
    "del shallow_copy[0]"
   ]
  },
  {
   "cell_type": "code",
   "execution_count": 9,
   "metadata": {
    "collapsed": false
   },
   "outputs": [
    {
     "name": "stdout",
     "output_type": "stream",
     "text": [
      "Collection id: 140290077461256\n",
      "[0]\tPerson[name: Changed original, age: 24]\tid: 140290077675704\n",
      "[1]\tPerson[name: Alice, age: 17]\tid: 140290077675760\n",
      "Collection id: 140290077472136\n",
      "[0]\tPerson[name: Alice, age: 17]\tid: 140290077675760\n"
     ]
    }
   ],
   "source": [
    "print_details(original)\n",
    "print_details(shallow_copy)"
   ]
  },
  {
   "cell_type": "code",
   "execution_count": 14,
   "metadata": {
    "collapsed": false
   },
   "outputs": [],
   "source": [
    "shallow_copy.remove(Person('Alice', 17))"
   ]
  },
  {
   "cell_type": "code",
   "execution_count": 15,
   "metadata": {
    "collapsed": false
   },
   "outputs": [
    {
     "name": "stdout",
     "output_type": "stream",
     "text": [
      "Collection id: 140290077461256\n",
      "[0]\tPerson[name: Changed original, age: 24]\tid: 140290077675704\n",
      "[1]\tPerson[name: Alice, age: 17]\tid: 140290077675760\n",
      "Collection id: 140290077472136\n"
     ]
    }
   ],
   "source": [
    "print_details(original)\n",
    "print_details(shallow_copy)"
   ]
  },
  {
   "cell_type": "code",
   "execution_count": null,
   "metadata": {
    "collapsed": true
   },
   "outputs": [],
   "source": []
  }
 ],
 "metadata": {
  "kernelspec": {
   "display_name": "Python 3",
   "language": "python",
   "name": "python3"
  },
  "language_info": {
   "codemirror_mode": {
    "name": "ipython",
    "version": 3
   },
   "file_extension": ".py",
   "mimetype": "text/x-python",
   "name": "python",
   "nbconvert_exporter": "python",
   "pygments_lexer": "ipython3",
   "version": "3.5.2"
  }
 },
 "nbformat": 4,
 "nbformat_minor": 2
}
